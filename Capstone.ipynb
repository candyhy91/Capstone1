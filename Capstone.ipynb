{
 "cells": [
  {
   "cell_type": "markdown",
   "id": "d031c279",
   "metadata": {},
   "source": [
    "# Hotel price in Las Vegas (EDA, Inference, and Prediction) - Candice Zhao \n",
    "\n",
    "\n",
    "## Stages of the project\n",
    "\n",
    "1. Importing and loading \n",
    "    * Load the dataset as `data`\n",
    " \n",
    " \n",
    "2. Data Wrangling\n",
    "    * Check the data types and transform `searchdt`, `startdt` and `enddt` to datetime\n",
    "    * Add new columns to the `data` dataframes: \n",
    "        - `advance_days`: days between the search_date and startdt\n",
    "        - `stay_days`: days the customer stays\n",
    "        - `weekday`: the day of the week for search_date (Monday=0, Sunday=6)\n",
    "        - `month_s`: which month the stay starts\n",
    "        - `month_e`: which month the stay ends\n",
    "        - `day_s`: which day the stay starts\n",
    "        - `day_e`: which day the stay ends\n",
    "        - `year_s`: which year the stay starts\n",
    "        - `year_e`: which year the stay ends\n",
    "  \n",
    "\n",
    "3. Exploratory Data Analysis \n",
    "    * Hotel stats summary\n",
    "    * Price data summary\n",
    "    * Search date\n",
    "    * Days in advance \n",
    "    * Month/Day/Year of the trip\n",
    "  \n",
    "  \n",
    "4. Data visualization\n",
    "    * Subplot on hotel_id, hotel_stars\n",
    "    * Histogram for each variable\n",
    "  \n",
    "  \n",
    "5. Data analysis: when to book for a good deal \n",
    "    * Mean and median price grouped by `hotel_stars`\n",
    "    * Median price grouped by `advance_days`\n",
    "    * Median price grouped by 3-star, 4-star and 5-star hotel respectively\n",
    "    * Hypothesis testing \n",
    "\n",
    "\n",
    "6. Hotel price prediction\n",
    "    * Heatmap\n",
    "    * scatterplot\n",
    "    * Model \n",
    "        * Dummy variables for `hotel_stars`\n",
    "        * Linear regression\n",
    "        * Random forest\n",
    "    "
   ]
  },
  {
   "cell_type": "code",
   "execution_count": 213,
   "id": "0cac5459",
   "metadata": {},
   "outputs": [],
   "source": [
    "import pandas as pd\n",
    "import numpy as np\n",
    "import matplotlib.pyplot as plt\n",
    "import seaborn as sns\n",
    "import datetime as dt\n",
    "from scipy.stats import ttest_ind\n",
    "from pandas_profiling import ProfileReport\n",
    "\n",
    "from sklearn.model_selection import train_test_split\n",
    "from sklearn.linear_model import LinearRegression\n",
    "from sklearn.preprocessing import StandardScaler, MinMaxScaler\n",
    "from sklearn.ensemble import RandomForestRegressor\n",
    "from sklearn.metrics import r2_score, mean_squared_error, mean_absolute_error\n",
    "from sklearn.model_selection import train_test_split, cross_validate, GridSearchCV, learning_curve\n",
    "from sklearn import metrics"
   ]
  },
  {
   "cell_type": "markdown",
   "id": "9963fd12",
   "metadata": {},
   "source": [
    "## Import and Load data"
   ]
  },
  {
   "cell_type": "code",
   "execution_count": 90,
   "id": "dd7cdab7",
   "metadata": {},
   "outputs": [
    {
     "data": {
      "text/html": [
       "<div>\n",
       "<style scoped>\n",
       "    .dataframe tbody tr th:only-of-type {\n",
       "        vertical-align: middle;\n",
       "    }\n",
       "\n",
       "    .dataframe tbody tr th {\n",
       "        vertical-align: top;\n",
       "    }\n",
       "\n",
       "    .dataframe thead th {\n",
       "        text-align: right;\n",
       "    }\n",
       "</style>\n",
       "<table border=\"1\" class=\"dataframe\">\n",
       "  <thead>\n",
       "    <tr style=\"text-align: right;\">\n",
       "      <th></th>\n",
       "      <th>search_date</th>\n",
       "      <th>startdt</th>\n",
       "      <th>enddt</th>\n",
       "      <th>hotel_id</th>\n",
       "      <th>hotel_stars</th>\n",
       "      <th>price</th>\n",
       "    </tr>\n",
       "  </thead>\n",
       "  <tbody>\n",
       "    <tr>\n",
       "      <th>0</th>\n",
       "      <td>2021-06-29</td>\n",
       "      <td>2021-07-07</td>\n",
       "      <td>2021-07-11</td>\n",
       "      <td>24432</td>\n",
       "      <td>5.0</td>\n",
       "      <td>555.0</td>\n",
       "    </tr>\n",
       "    <tr>\n",
       "      <th>1</th>\n",
       "      <td>2021-06-12</td>\n",
       "      <td>2021-07-05</td>\n",
       "      <td>2021-07-09</td>\n",
       "      <td>24432</td>\n",
       "      <td>5.0</td>\n",
       "      <td>267.0</td>\n",
       "    </tr>\n",
       "    <tr>\n",
       "      <th>2</th>\n",
       "      <td>2021-06-06</td>\n",
       "      <td>2021-07-29</td>\n",
       "      <td>2021-08-01</td>\n",
       "      <td>24432</td>\n",
       "      <td>5.0</td>\n",
       "      <td>318.0</td>\n",
       "    </tr>\n",
       "    <tr>\n",
       "      <th>3</th>\n",
       "      <td>2021-06-21</td>\n",
       "      <td>2021-06-26</td>\n",
       "      <td>2021-07-02</td>\n",
       "      <td>24432</td>\n",
       "      <td>5.0</td>\n",
       "      <td>362.0</td>\n",
       "    </tr>\n",
       "    <tr>\n",
       "      <th>4</th>\n",
       "      <td>2021-06-29</td>\n",
       "      <td>2021-08-23</td>\n",
       "      <td>2021-08-25</td>\n",
       "      <td>24432</td>\n",
       "      <td>5.0</td>\n",
       "      <td>403.0</td>\n",
       "    </tr>\n",
       "    <tr>\n",
       "      <th>...</th>\n",
       "      <td>...</td>\n",
       "      <td>...</td>\n",
       "      <td>...</td>\n",
       "      <td>...</td>\n",
       "      <td>...</td>\n",
       "      <td>...</td>\n",
       "    </tr>\n",
       "    <tr>\n",
       "      <th>98204</th>\n",
       "      <td>2021-06-26</td>\n",
       "      <td>2021-09-04</td>\n",
       "      <td>2021-09-07</td>\n",
       "      <td>4367210</td>\n",
       "      <td>4.0</td>\n",
       "      <td>195.0</td>\n",
       "    </tr>\n",
       "    <tr>\n",
       "      <th>98205</th>\n",
       "      <td>2021-06-18</td>\n",
       "      <td>2021-07-18</td>\n",
       "      <td>2021-07-21</td>\n",
       "      <td>4367210</td>\n",
       "      <td>4.0</td>\n",
       "      <td>97.0</td>\n",
       "    </tr>\n",
       "    <tr>\n",
       "      <th>98206</th>\n",
       "      <td>2021-06-28</td>\n",
       "      <td>2021-08-22</td>\n",
       "      <td>2021-08-27</td>\n",
       "      <td>4367210</td>\n",
       "      <td>4.0</td>\n",
       "      <td>87.0</td>\n",
       "    </tr>\n",
       "    <tr>\n",
       "      <th>98207</th>\n",
       "      <td>2021-06-30</td>\n",
       "      <td>2021-12-09</td>\n",
       "      <td>2021-12-13</td>\n",
       "      <td>4367210</td>\n",
       "      <td>4.0</td>\n",
       "      <td>138.0</td>\n",
       "    </tr>\n",
       "    <tr>\n",
       "      <th>98208</th>\n",
       "      <td>2021-06-19</td>\n",
       "      <td>2021-08-22</td>\n",
       "      <td>2021-08-30</td>\n",
       "      <td>4367210</td>\n",
       "      <td>4.0</td>\n",
       "      <td>124.0</td>\n",
       "    </tr>\n",
       "  </tbody>\n",
       "</table>\n",
       "<p>98209 rows × 6 columns</p>\n",
       "</div>"
      ],
      "text/plain": [
       "      search_date     startdt       enddt  hotel_id  hotel_stars  price\n",
       "0      2021-06-29  2021-07-07  2021-07-11     24432          5.0  555.0\n",
       "1      2021-06-12  2021-07-05  2021-07-09     24432          5.0  267.0\n",
       "2      2021-06-06  2021-07-29  2021-08-01     24432          5.0  318.0\n",
       "3      2021-06-21  2021-06-26  2021-07-02     24432          5.0  362.0\n",
       "4      2021-06-29  2021-08-23  2021-08-25     24432          5.0  403.0\n",
       "...           ...         ...         ...       ...          ...    ...\n",
       "98204  2021-06-26  2021-09-04  2021-09-07   4367210          4.0  195.0\n",
       "98205  2021-06-18  2021-07-18  2021-07-21   4367210          4.0   97.0\n",
       "98206  2021-06-28  2021-08-22  2021-08-27   4367210          4.0   87.0\n",
       "98207  2021-06-30  2021-12-09  2021-12-13   4367210          4.0  138.0\n",
       "98208  2021-06-19  2021-08-22  2021-08-30   4367210          4.0  124.0\n",
       "\n",
       "[98209 rows x 6 columns]"
      ]
     },
     "execution_count": 90,
     "metadata": {},
     "output_type": "execute_result"
    }
   ],
   "source": [
    "# Load the Kayak Las Vegas Hotel raw data \n",
    "data = pd.read_csv('las_vegas_hotels.csv')\n",
    "data"
   ]
  },
  {
   "cell_type": "code",
   "execution_count": 91,
   "id": "47d69a56",
   "metadata": {},
   "outputs": [
    {
     "name": "stdout",
     "output_type": "stream",
     "text": [
      "<class 'pandas.core.frame.DataFrame'>\n",
      "RangeIndex: 98209 entries, 0 to 98208\n",
      "Data columns (total 6 columns):\n",
      " #   Column       Non-Null Count  Dtype  \n",
      "---  ------       --------------  -----  \n",
      " 0   search_date  98209 non-null  object \n",
      " 1   startdt      98209 non-null  object \n",
      " 2   enddt        98209 non-null  object \n",
      " 3   hotel_id     98209 non-null  int64  \n",
      " 4   hotel_stars  98209 non-null  float64\n",
      " 5   price        98209 non-null  float64\n",
      "dtypes: float64(2), int64(1), object(3)\n",
      "memory usage: 4.5+ MB\n"
     ]
    }
   ],
   "source": [
    "data.info()"
   ]
  },
  {
   "cell_type": "markdown",
   "id": "d057320e",
   "metadata": {},
   "source": [
    "## Cleaning and adding new variables"
   ]
  },
  {
   "cell_type": "code",
   "execution_count": 165,
   "id": "e9057c25",
   "metadata": {},
   "outputs": [
    {
     "data": {
      "text/plain": [
       "search_date     datetime64[ns]\n",
       "startdt         datetime64[ns]\n",
       "enddt           datetime64[ns]\n",
       "hotel_id                 int64\n",
       "hotel_stars            float64\n",
       "price                  float64\n",
       "advance_days             int64\n",
       "weekday                  int64\n",
       "month_s                  int64\n",
       "month_e                  int64\n",
       "day_s                    int64\n",
       "day_e                    int64\n",
       "year_s                   int64\n",
       "year_e                   int64\n",
       "stay_days                int64\n",
       "dtype: object"
      ]
     },
     "execution_count": 165,
     "metadata": {},
     "output_type": "execute_result"
    }
   ],
   "source": [
    "# convert data type from object to datetime\n",
    "data['search_date']=pd.to_datetime(data['search_date'])\n",
    "data['startdt']=pd.to_datetime(data['startdt'])\n",
    "data['enddt']=pd.to_datetime(data['enddt'])\n",
    "data['advance_days'] = (data['startdt']- data['search_date']).dt.days\n",
    "data['stay_days'] = (data['enddt']- data['startdt']).dt.days\n",
    "data.dtypes"
   ]
  },
  {
   "cell_type": "code",
   "execution_count": 166,
   "id": "9fd001ab",
   "metadata": {},
   "outputs": [
    {
     "data": {
      "text/html": [
       "<div>\n",
       "<style scoped>\n",
       "    .dataframe tbody tr th:only-of-type {\n",
       "        vertical-align: middle;\n",
       "    }\n",
       "\n",
       "    .dataframe tbody tr th {\n",
       "        vertical-align: top;\n",
       "    }\n",
       "\n",
       "    .dataframe thead th {\n",
       "        text-align: right;\n",
       "    }\n",
       "</style>\n",
       "<table border=\"1\" class=\"dataframe\">\n",
       "  <thead>\n",
       "    <tr style=\"text-align: right;\">\n",
       "      <th></th>\n",
       "      <th>search_date</th>\n",
       "      <th>startdt</th>\n",
       "      <th>enddt</th>\n",
       "      <th>hotel_id</th>\n",
       "      <th>hotel_stars</th>\n",
       "      <th>price</th>\n",
       "      <th>advance_days</th>\n",
       "      <th>weekday</th>\n",
       "      <th>month_s</th>\n",
       "      <th>month_e</th>\n",
       "      <th>day_s</th>\n",
       "      <th>day_e</th>\n",
       "      <th>year_s</th>\n",
       "      <th>year_e</th>\n",
       "      <th>stay_days</th>\n",
       "    </tr>\n",
       "  </thead>\n",
       "  <tbody>\n",
       "    <tr>\n",
       "      <th>0</th>\n",
       "      <td>2021-06-29</td>\n",
       "      <td>2021-07-07</td>\n",
       "      <td>2021-07-11</td>\n",
       "      <td>24432</td>\n",
       "      <td>5.0</td>\n",
       "      <td>555.0</td>\n",
       "      <td>8</td>\n",
       "      <td>1</td>\n",
       "      <td>7</td>\n",
       "      <td>7</td>\n",
       "      <td>7</td>\n",
       "      <td>11</td>\n",
       "      <td>2021</td>\n",
       "      <td>2021</td>\n",
       "      <td>4</td>\n",
       "    </tr>\n",
       "    <tr>\n",
       "      <th>1</th>\n",
       "      <td>2021-06-12</td>\n",
       "      <td>2021-07-05</td>\n",
       "      <td>2021-07-09</td>\n",
       "      <td>24432</td>\n",
       "      <td>5.0</td>\n",
       "      <td>267.0</td>\n",
       "      <td>23</td>\n",
       "      <td>5</td>\n",
       "      <td>7</td>\n",
       "      <td>7</td>\n",
       "      <td>5</td>\n",
       "      <td>9</td>\n",
       "      <td>2021</td>\n",
       "      <td>2021</td>\n",
       "      <td>4</td>\n",
       "    </tr>\n",
       "    <tr>\n",
       "      <th>2</th>\n",
       "      <td>2021-06-06</td>\n",
       "      <td>2021-07-29</td>\n",
       "      <td>2021-08-01</td>\n",
       "      <td>24432</td>\n",
       "      <td>5.0</td>\n",
       "      <td>318.0</td>\n",
       "      <td>53</td>\n",
       "      <td>6</td>\n",
       "      <td>7</td>\n",
       "      <td>8</td>\n",
       "      <td>29</td>\n",
       "      <td>1</td>\n",
       "      <td>2021</td>\n",
       "      <td>2021</td>\n",
       "      <td>3</td>\n",
       "    </tr>\n",
       "    <tr>\n",
       "      <th>3</th>\n",
       "      <td>2021-06-21</td>\n",
       "      <td>2021-06-26</td>\n",
       "      <td>2021-07-02</td>\n",
       "      <td>24432</td>\n",
       "      <td>5.0</td>\n",
       "      <td>362.0</td>\n",
       "      <td>5</td>\n",
       "      <td>0</td>\n",
       "      <td>6</td>\n",
       "      <td>7</td>\n",
       "      <td>26</td>\n",
       "      <td>2</td>\n",
       "      <td>2021</td>\n",
       "      <td>2021</td>\n",
       "      <td>6</td>\n",
       "    </tr>\n",
       "    <tr>\n",
       "      <th>4</th>\n",
       "      <td>2021-06-29</td>\n",
       "      <td>2021-08-23</td>\n",
       "      <td>2021-08-25</td>\n",
       "      <td>24432</td>\n",
       "      <td>5.0</td>\n",
       "      <td>403.0</td>\n",
       "      <td>55</td>\n",
       "      <td>1</td>\n",
       "      <td>8</td>\n",
       "      <td>8</td>\n",
       "      <td>23</td>\n",
       "      <td>25</td>\n",
       "      <td>2021</td>\n",
       "      <td>2021</td>\n",
       "      <td>2</td>\n",
       "    </tr>\n",
       "  </tbody>\n",
       "</table>\n",
       "</div>"
      ],
      "text/plain": [
       "  search_date    startdt      enddt  hotel_id  hotel_stars  price  \\\n",
       "0  2021-06-29 2021-07-07 2021-07-11     24432          5.0  555.0   \n",
       "1  2021-06-12 2021-07-05 2021-07-09     24432          5.0  267.0   \n",
       "2  2021-06-06 2021-07-29 2021-08-01     24432          5.0  318.0   \n",
       "3  2021-06-21 2021-06-26 2021-07-02     24432          5.0  362.0   \n",
       "4  2021-06-29 2021-08-23 2021-08-25     24432          5.0  403.0   \n",
       "\n",
       "   advance_days  weekday  month_s  month_e  day_s  day_e  year_s  year_e  \\\n",
       "0             8        1        7        7      7     11    2021    2021   \n",
       "1            23        5        7        7      5      9    2021    2021   \n",
       "2            53        6        7        8     29      1    2021    2021   \n",
       "3             5        0        6        7     26      2    2021    2021   \n",
       "4            55        1        8        8     23     25    2021    2021   \n",
       "\n",
       "   stay_days  \n",
       "0          4  \n",
       "1          4  \n",
       "2          3  \n",
       "3          6  \n",
       "4          2  "
      ]
     },
     "execution_count": 166,
     "metadata": {},
     "output_type": "execute_result"
    }
   ],
   "source": [
    "# get the day of the week for search_date. The day of the week with Monday=0, Sunday=6.\n",
    "data['weekday'] = data['search_date'].dt.dayofweek\n",
    "data.head()"
   ]
  },
  {
   "cell_type": "code",
   "execution_count": 167,
   "id": "fc3f27ea",
   "metadata": {},
   "outputs": [
    {
     "data": {
      "text/html": [
       "<div>\n",
       "<style scoped>\n",
       "    .dataframe tbody tr th:only-of-type {\n",
       "        vertical-align: middle;\n",
       "    }\n",
       "\n",
       "    .dataframe tbody tr th {\n",
       "        vertical-align: top;\n",
       "    }\n",
       "\n",
       "    .dataframe thead th {\n",
       "        text-align: right;\n",
       "    }\n",
       "</style>\n",
       "<table border=\"1\" class=\"dataframe\">\n",
       "  <thead>\n",
       "    <tr style=\"text-align: right;\">\n",
       "      <th></th>\n",
       "      <th>search_date</th>\n",
       "      <th>startdt</th>\n",
       "      <th>enddt</th>\n",
       "      <th>hotel_id</th>\n",
       "      <th>hotel_stars</th>\n",
       "      <th>price</th>\n",
       "      <th>advance_days</th>\n",
       "      <th>weekday</th>\n",
       "      <th>month_s</th>\n",
       "      <th>month_e</th>\n",
       "      <th>day_s</th>\n",
       "      <th>day_e</th>\n",
       "      <th>year_s</th>\n",
       "      <th>year_e</th>\n",
       "      <th>stay_days</th>\n",
       "    </tr>\n",
       "  </thead>\n",
       "  <tbody>\n",
       "    <tr>\n",
       "      <th>0</th>\n",
       "      <td>2021-06-29</td>\n",
       "      <td>2021-07-07</td>\n",
       "      <td>2021-07-11</td>\n",
       "      <td>24432</td>\n",
       "      <td>5.0</td>\n",
       "      <td>555.0</td>\n",
       "      <td>8</td>\n",
       "      <td>1</td>\n",
       "      <td>7</td>\n",
       "      <td>7</td>\n",
       "      <td>7</td>\n",
       "      <td>11</td>\n",
       "      <td>2021</td>\n",
       "      <td>2021</td>\n",
       "      <td>4</td>\n",
       "    </tr>\n",
       "    <tr>\n",
       "      <th>1</th>\n",
       "      <td>2021-06-12</td>\n",
       "      <td>2021-07-05</td>\n",
       "      <td>2021-07-09</td>\n",
       "      <td>24432</td>\n",
       "      <td>5.0</td>\n",
       "      <td>267.0</td>\n",
       "      <td>23</td>\n",
       "      <td>5</td>\n",
       "      <td>7</td>\n",
       "      <td>7</td>\n",
       "      <td>5</td>\n",
       "      <td>9</td>\n",
       "      <td>2021</td>\n",
       "      <td>2021</td>\n",
       "      <td>4</td>\n",
       "    </tr>\n",
       "    <tr>\n",
       "      <th>2</th>\n",
       "      <td>2021-06-06</td>\n",
       "      <td>2021-07-29</td>\n",
       "      <td>2021-08-01</td>\n",
       "      <td>24432</td>\n",
       "      <td>5.0</td>\n",
       "      <td>318.0</td>\n",
       "      <td>53</td>\n",
       "      <td>6</td>\n",
       "      <td>7</td>\n",
       "      <td>8</td>\n",
       "      <td>29</td>\n",
       "      <td>1</td>\n",
       "      <td>2021</td>\n",
       "      <td>2021</td>\n",
       "      <td>3</td>\n",
       "    </tr>\n",
       "    <tr>\n",
       "      <th>3</th>\n",
       "      <td>2021-06-21</td>\n",
       "      <td>2021-06-26</td>\n",
       "      <td>2021-07-02</td>\n",
       "      <td>24432</td>\n",
       "      <td>5.0</td>\n",
       "      <td>362.0</td>\n",
       "      <td>5</td>\n",
       "      <td>0</td>\n",
       "      <td>6</td>\n",
       "      <td>7</td>\n",
       "      <td>26</td>\n",
       "      <td>2</td>\n",
       "      <td>2021</td>\n",
       "      <td>2021</td>\n",
       "      <td>6</td>\n",
       "    </tr>\n",
       "    <tr>\n",
       "      <th>4</th>\n",
       "      <td>2021-06-29</td>\n",
       "      <td>2021-08-23</td>\n",
       "      <td>2021-08-25</td>\n",
       "      <td>24432</td>\n",
       "      <td>5.0</td>\n",
       "      <td>403.0</td>\n",
       "      <td>55</td>\n",
       "      <td>1</td>\n",
       "      <td>8</td>\n",
       "      <td>8</td>\n",
       "      <td>23</td>\n",
       "      <td>25</td>\n",
       "      <td>2021</td>\n",
       "      <td>2021</td>\n",
       "      <td>2</td>\n",
       "    </tr>\n",
       "    <tr>\n",
       "      <th>...</th>\n",
       "      <td>...</td>\n",
       "      <td>...</td>\n",
       "      <td>...</td>\n",
       "      <td>...</td>\n",
       "      <td>...</td>\n",
       "      <td>...</td>\n",
       "      <td>...</td>\n",
       "      <td>...</td>\n",
       "      <td>...</td>\n",
       "      <td>...</td>\n",
       "      <td>...</td>\n",
       "      <td>...</td>\n",
       "      <td>...</td>\n",
       "      <td>...</td>\n",
       "      <td>...</td>\n",
       "    </tr>\n",
       "    <tr>\n",
       "      <th>98204</th>\n",
       "      <td>2021-06-26</td>\n",
       "      <td>2021-09-04</td>\n",
       "      <td>2021-09-07</td>\n",
       "      <td>4367210</td>\n",
       "      <td>4.0</td>\n",
       "      <td>195.0</td>\n",
       "      <td>70</td>\n",
       "      <td>5</td>\n",
       "      <td>9</td>\n",
       "      <td>9</td>\n",
       "      <td>4</td>\n",
       "      <td>7</td>\n",
       "      <td>2021</td>\n",
       "      <td>2021</td>\n",
       "      <td>3</td>\n",
       "    </tr>\n",
       "    <tr>\n",
       "      <th>98205</th>\n",
       "      <td>2021-06-18</td>\n",
       "      <td>2021-07-18</td>\n",
       "      <td>2021-07-21</td>\n",
       "      <td>4367210</td>\n",
       "      <td>4.0</td>\n",
       "      <td>97.0</td>\n",
       "      <td>30</td>\n",
       "      <td>4</td>\n",
       "      <td>7</td>\n",
       "      <td>7</td>\n",
       "      <td>18</td>\n",
       "      <td>21</td>\n",
       "      <td>2021</td>\n",
       "      <td>2021</td>\n",
       "      <td>3</td>\n",
       "    </tr>\n",
       "    <tr>\n",
       "      <th>98206</th>\n",
       "      <td>2021-06-28</td>\n",
       "      <td>2021-08-22</td>\n",
       "      <td>2021-08-27</td>\n",
       "      <td>4367210</td>\n",
       "      <td>4.0</td>\n",
       "      <td>87.0</td>\n",
       "      <td>55</td>\n",
       "      <td>0</td>\n",
       "      <td>8</td>\n",
       "      <td>8</td>\n",
       "      <td>22</td>\n",
       "      <td>27</td>\n",
       "      <td>2021</td>\n",
       "      <td>2021</td>\n",
       "      <td>5</td>\n",
       "    </tr>\n",
       "    <tr>\n",
       "      <th>98207</th>\n",
       "      <td>2021-06-30</td>\n",
       "      <td>2021-12-09</td>\n",
       "      <td>2021-12-13</td>\n",
       "      <td>4367210</td>\n",
       "      <td>4.0</td>\n",
       "      <td>138.0</td>\n",
       "      <td>162</td>\n",
       "      <td>2</td>\n",
       "      <td>12</td>\n",
       "      <td>12</td>\n",
       "      <td>9</td>\n",
       "      <td>13</td>\n",
       "      <td>2021</td>\n",
       "      <td>2021</td>\n",
       "      <td>4</td>\n",
       "    </tr>\n",
       "    <tr>\n",
       "      <th>98208</th>\n",
       "      <td>2021-06-19</td>\n",
       "      <td>2021-08-22</td>\n",
       "      <td>2021-08-30</td>\n",
       "      <td>4367210</td>\n",
       "      <td>4.0</td>\n",
       "      <td>124.0</td>\n",
       "      <td>64</td>\n",
       "      <td>5</td>\n",
       "      <td>8</td>\n",
       "      <td>8</td>\n",
       "      <td>22</td>\n",
       "      <td>30</td>\n",
       "      <td>2021</td>\n",
       "      <td>2021</td>\n",
       "      <td>8</td>\n",
       "    </tr>\n",
       "  </tbody>\n",
       "</table>\n",
       "<p>98209 rows × 15 columns</p>\n",
       "</div>"
      ],
      "text/plain": [
       "      search_date    startdt      enddt  hotel_id  hotel_stars  price  \\\n",
       "0      2021-06-29 2021-07-07 2021-07-11     24432          5.0  555.0   \n",
       "1      2021-06-12 2021-07-05 2021-07-09     24432          5.0  267.0   \n",
       "2      2021-06-06 2021-07-29 2021-08-01     24432          5.0  318.0   \n",
       "3      2021-06-21 2021-06-26 2021-07-02     24432          5.0  362.0   \n",
       "4      2021-06-29 2021-08-23 2021-08-25     24432          5.0  403.0   \n",
       "...           ...        ...        ...       ...          ...    ...   \n",
       "98204  2021-06-26 2021-09-04 2021-09-07   4367210          4.0  195.0   \n",
       "98205  2021-06-18 2021-07-18 2021-07-21   4367210          4.0   97.0   \n",
       "98206  2021-06-28 2021-08-22 2021-08-27   4367210          4.0   87.0   \n",
       "98207  2021-06-30 2021-12-09 2021-12-13   4367210          4.0  138.0   \n",
       "98208  2021-06-19 2021-08-22 2021-08-30   4367210          4.0  124.0   \n",
       "\n",
       "       advance_days  weekday  month_s  month_e  day_s  day_e  year_s  year_e  \\\n",
       "0                 8        1        7        7      7     11    2021    2021   \n",
       "1                23        5        7        7      5      9    2021    2021   \n",
       "2                53        6        7        8     29      1    2021    2021   \n",
       "3                 5        0        6        7     26      2    2021    2021   \n",
       "4                55        1        8        8     23     25    2021    2021   \n",
       "...             ...      ...      ...      ...    ...    ...     ...     ...   \n",
       "98204            70        5        9        9      4      7    2021    2021   \n",
       "98205            30        4        7        7     18     21    2021    2021   \n",
       "98206            55        0        8        8     22     27    2021    2021   \n",
       "98207           162        2       12       12      9     13    2021    2021   \n",
       "98208            64        5        8        8     22     30    2021    2021   \n",
       "\n",
       "       stay_days  \n",
       "0              4  \n",
       "1              4  \n",
       "2              3  \n",
       "3              6  \n",
       "4              2  \n",
       "...          ...  \n",
       "98204          3  \n",
       "98205          3  \n",
       "98206          5  \n",
       "98207          4  \n",
       "98208          8  \n",
       "\n",
       "[98209 rows x 15 columns]"
      ]
     },
     "execution_count": 167,
     "metadata": {},
     "output_type": "execute_result"
    }
   ],
   "source": [
    "# get the month, day, year for the trip\n",
    "data['month_s'] = data['startdt'].dt.month\n",
    "data['month_e'] = data['enddt'].dt.month\n",
    "\n",
    "data['day_s'] = data['startdt'].dt.day\n",
    "data['day_e'] = data['enddt'].dt.day\n",
    "\n",
    "data['year_s'] = data['startdt'].dt.year\n",
    "data['year_e'] = data['enddt'].dt.year\n",
    "\n",
    "data"
   ]
  },
  {
   "cell_type": "code",
   "execution_count": 168,
   "id": "1cf952bb",
   "metadata": {},
   "outputs": [
    {
     "data": {
      "text/plain": [
       "search_date     datetime64[ns]\n",
       "startdt         datetime64[ns]\n",
       "enddt           datetime64[ns]\n",
       "hotel_id                 int64\n",
       "hotel_stars            float64\n",
       "price                  float64\n",
       "advance_days             int64\n",
       "weekday                  int64\n",
       "month_s                  int64\n",
       "month_e                  int64\n",
       "day_s                    int64\n",
       "day_e                    int64\n",
       "year_s                   int64\n",
       "year_e                   int64\n",
       "stay_days                int64\n",
       "dtype: object"
      ]
     },
     "execution_count": 168,
     "metadata": {},
     "output_type": "execute_result"
    }
   ],
   "source": [
    "data.dtypes"
   ]
  },
  {
   "cell_type": "markdown",
   "id": "a16f3c7f",
   "metadata": {},
   "source": [
    "## EDA"
   ]
  },
  {
   "cell_type": "markdown",
   "id": "ce979283",
   "metadata": {},
   "source": [
    "### General data information"
   ]
  },
  {
   "cell_type": "code",
   "execution_count": 169,
   "id": "9f8d1f3e",
   "metadata": {},
   "outputs": [
    {
     "data": {
      "text/html": [
       "<div>\n",
       "<style scoped>\n",
       "    .dataframe tbody tr th:only-of-type {\n",
       "        vertical-align: middle;\n",
       "    }\n",
       "\n",
       "    .dataframe tbody tr th {\n",
       "        vertical-align: top;\n",
       "    }\n",
       "\n",
       "    .dataframe thead th {\n",
       "        text-align: right;\n",
       "    }\n",
       "</style>\n",
       "<table border=\"1\" class=\"dataframe\">\n",
       "  <thead>\n",
       "    <tr style=\"text-align: right;\">\n",
       "      <th></th>\n",
       "      <th>hotel_id</th>\n",
       "      <th>hotel_stars</th>\n",
       "      <th>price</th>\n",
       "      <th>advance_days</th>\n",
       "      <th>weekday</th>\n",
       "      <th>month_s</th>\n",
       "      <th>month_e</th>\n",
       "      <th>day_s</th>\n",
       "      <th>day_e</th>\n",
       "      <th>year_s</th>\n",
       "      <th>year_e</th>\n",
       "      <th>stay_days</th>\n",
       "    </tr>\n",
       "  </thead>\n",
       "  <tbody>\n",
       "    <tr>\n",
       "      <th>count</th>\n",
       "      <td>9.820900e+04</td>\n",
       "      <td>98209.000000</td>\n",
       "      <td>98209.000000</td>\n",
       "      <td>98209.000000</td>\n",
       "      <td>98209.000000</td>\n",
       "      <td>98209.000000</td>\n",
       "      <td>98209.000000</td>\n",
       "      <td>98209.00000</td>\n",
       "      <td>98209.000000</td>\n",
       "      <td>98209.0</td>\n",
       "      <td>98209.000000</td>\n",
       "      <td>98209.000000</td>\n",
       "    </tr>\n",
       "    <tr>\n",
       "      <th>mean</th>\n",
       "      <td>4.623634e+05</td>\n",
       "      <td>3.989492</td>\n",
       "      <td>238.673431</td>\n",
       "      <td>38.963832</td>\n",
       "      <td>2.736918</td>\n",
       "      <td>7.295380</td>\n",
       "      <td>7.375088</td>\n",
       "      <td>15.30655</td>\n",
       "      <td>15.695089</td>\n",
       "      <td>2021.0</td>\n",
       "      <td>2021.000112</td>\n",
       "      <td>2.857905</td>\n",
       "    </tr>\n",
       "    <tr>\n",
       "      <th>std</th>\n",
       "      <td>1.058829e+06</td>\n",
       "      <td>0.733188</td>\n",
       "      <td>163.892242</td>\n",
       "      <td>40.787721</td>\n",
       "      <td>1.950099</td>\n",
       "      <td>1.370036</td>\n",
       "      <td>1.382685</td>\n",
       "      <td>8.81050</td>\n",
       "      <td>8.783179</td>\n",
       "      <td>0.0</td>\n",
       "      <td>0.010583</td>\n",
       "      <td>1.833844</td>\n",
       "    </tr>\n",
       "    <tr>\n",
       "      <th>min</th>\n",
       "      <td>2.443200e+04</td>\n",
       "      <td>3.000000</td>\n",
       "      <td>13.000000</td>\n",
       "      <td>0.000000</td>\n",
       "      <td>0.000000</td>\n",
       "      <td>6.000000</td>\n",
       "      <td>1.000000</td>\n",
       "      <td>1.00000</td>\n",
       "      <td>1.000000</td>\n",
       "      <td>2021.0</td>\n",
       "      <td>2021.000000</td>\n",
       "      <td>1.000000</td>\n",
       "    </tr>\n",
       "    <tr>\n",
       "      <th>25%</th>\n",
       "      <td>6.281200e+04</td>\n",
       "      <td>3.000000</td>\n",
       "      <td>128.000000</td>\n",
       "      <td>7.000000</td>\n",
       "      <td>1.000000</td>\n",
       "      <td>6.000000</td>\n",
       "      <td>6.000000</td>\n",
       "      <td>8.00000</td>\n",
       "      <td>8.000000</td>\n",
       "      <td>2021.0</td>\n",
       "      <td>2021.000000</td>\n",
       "      <td>2.000000</td>\n",
       "    </tr>\n",
       "    <tr>\n",
       "      <th>50%</th>\n",
       "      <td>6.292200e+04</td>\n",
       "      <td>4.000000</td>\n",
       "      <td>202.000000</td>\n",
       "      <td>25.000000</td>\n",
       "      <td>2.000000</td>\n",
       "      <td>7.000000</td>\n",
       "      <td>7.000000</td>\n",
       "      <td>16.00000</td>\n",
       "      <td>16.000000</td>\n",
       "      <td>2021.0</td>\n",
       "      <td>2021.000000</td>\n",
       "      <td>3.000000</td>\n",
       "    </tr>\n",
       "    <tr>\n",
       "      <th>75%</th>\n",
       "      <td>3.705280e+05</td>\n",
       "      <td>5.000000</td>\n",
       "      <td>313.000000</td>\n",
       "      <td>58.000000</td>\n",
       "      <td>4.000000</td>\n",
       "      <td>8.000000</td>\n",
       "      <td>8.000000</td>\n",
       "      <td>23.00000</td>\n",
       "      <td>23.000000</td>\n",
       "      <td>2021.0</td>\n",
       "      <td>2021.000000</td>\n",
       "      <td>3.000000</td>\n",
       "    </tr>\n",
       "    <tr>\n",
       "      <th>max</th>\n",
       "      <td>4.367210e+06</td>\n",
       "      <td>5.000000</td>\n",
       "      <td>10774.000000</td>\n",
       "      <td>180.000000</td>\n",
       "      <td>6.000000</td>\n",
       "      <td>12.000000</td>\n",
       "      <td>12.000000</td>\n",
       "      <td>31.00000</td>\n",
       "      <td>31.000000</td>\n",
       "      <td>2021.0</td>\n",
       "      <td>2022.000000</td>\n",
       "      <td>79.000000</td>\n",
       "    </tr>\n",
       "  </tbody>\n",
       "</table>\n",
       "</div>"
      ],
      "text/plain": [
       "           hotel_id   hotel_stars         price  advance_days       weekday  \\\n",
       "count  9.820900e+04  98209.000000  98209.000000  98209.000000  98209.000000   \n",
       "mean   4.623634e+05      3.989492    238.673431     38.963832      2.736918   \n",
       "std    1.058829e+06      0.733188    163.892242     40.787721      1.950099   \n",
       "min    2.443200e+04      3.000000     13.000000      0.000000      0.000000   \n",
       "25%    6.281200e+04      3.000000    128.000000      7.000000      1.000000   \n",
       "50%    6.292200e+04      4.000000    202.000000     25.000000      2.000000   \n",
       "75%    3.705280e+05      5.000000    313.000000     58.000000      4.000000   \n",
       "max    4.367210e+06      5.000000  10774.000000    180.000000      6.000000   \n",
       "\n",
       "            month_s       month_e        day_s         day_e   year_s  \\\n",
       "count  98209.000000  98209.000000  98209.00000  98209.000000  98209.0   \n",
       "mean       7.295380      7.375088     15.30655     15.695089   2021.0   \n",
       "std        1.370036      1.382685      8.81050      8.783179      0.0   \n",
       "min        6.000000      1.000000      1.00000      1.000000   2021.0   \n",
       "25%        6.000000      6.000000      8.00000      8.000000   2021.0   \n",
       "50%        7.000000      7.000000     16.00000     16.000000   2021.0   \n",
       "75%        8.000000      8.000000     23.00000     23.000000   2021.0   \n",
       "max       12.000000     12.000000     31.00000     31.000000   2021.0   \n",
       "\n",
       "             year_e     stay_days  \n",
       "count  98209.000000  98209.000000  \n",
       "mean    2021.000112      2.857905  \n",
       "std        0.010583      1.833844  \n",
       "min     2021.000000      1.000000  \n",
       "25%     2021.000000      2.000000  \n",
       "50%     2021.000000      3.000000  \n",
       "75%     2021.000000      3.000000  \n",
       "max     2022.000000     79.000000  "
      ]
     },
     "execution_count": 169,
     "metadata": {},
     "output_type": "execute_result"
    }
   ],
   "source": [
    "data.describe()"
   ]
  },
  {
   "cell_type": "markdown",
   "id": "0cae907d",
   "metadata": {},
   "source": [
    "### Hotel summary stats"
   ]
  },
  {
   "cell_type": "code",
   "execution_count": 97,
   "id": "735ffc2b",
   "metadata": {},
   "outputs": [
    {
     "data": {
      "text/plain": [
       "30"
      ]
     },
     "execution_count": 97,
     "metadata": {},
     "output_type": "execute_result"
    }
   ],
   "source": [
    "# number of hotels in the dataset\n",
    "data['hotel_id'].nunique()"
   ]
  },
  {
   "cell_type": "code",
   "execution_count": 98,
   "id": "a2af0ec6",
   "metadata": {},
   "outputs": [
    {
     "data": {
      "text/plain": [
       "370528     6093\n",
       "62828      5031\n",
       "129360     5008\n",
       "27626      4995\n",
       "701776     4719\n",
       "62812      4507\n",
       "417912     4370\n",
       "62914      4094\n",
       "30960      4066\n",
       "62944      3861\n",
       "4261654    3637\n",
       "62806      3581\n",
       "203434     3537\n",
       "683828     3521\n",
       "62808      3478\n",
       "134818     3399\n",
       "62862      3322\n",
       "4367210    3058\n",
       "28748      2991\n",
       "62922      2973\n",
       "397460     2744\n",
       "30594      2122\n",
       "62826      2069\n",
       "62858      1976\n",
       "62892      1937\n",
       "304896     1735\n",
       "62904      1672\n",
       "62852      1423\n",
       "258364     1388\n",
       "24432       902\n",
       "Name: hotel_id, dtype: int64"
      ]
     },
     "execution_count": 98,
     "metadata": {},
     "output_type": "execute_result"
    }
   ],
   "source": [
    "# number of reservations for each hotel\n",
    "data['hotel_id'].value_counts()"
   ]
  },
  {
   "cell_type": "code",
   "execution_count": 99,
   "id": "cccc8730",
   "metadata": {},
   "outputs": [
    {
     "data": {
      "text/plain": [
       "4.0    0.462330\n",
       "3.0    0.274089\n",
       "5.0    0.263581\n",
       "Name: hotel_stars, dtype: float64"
      ]
     },
     "execution_count": 99,
     "metadata": {},
     "output_type": "execute_result"
    }
   ],
   "source": [
    "# hotel stars \n",
    "data['hotel_stars'].value_counts(normalize = True)"
   ]
  },
  {
   "cell_type": "code",
   "execution_count": 100,
   "id": "fef47a38",
   "metadata": {},
   "outputs": [
    {
     "data": {
      "text/html": [
       "<div>\n",
       "<style scoped>\n",
       "    .dataframe tbody tr th:only-of-type {\n",
       "        vertical-align: middle;\n",
       "    }\n",
       "\n",
       "    .dataframe tbody tr th {\n",
       "        vertical-align: top;\n",
       "    }\n",
       "\n",
       "    .dataframe thead th {\n",
       "        text-align: right;\n",
       "    }\n",
       "</style>\n",
       "<table border=\"1\" class=\"dataframe\">\n",
       "  <thead>\n",
       "    <tr style=\"text-align: right;\">\n",
       "      <th></th>\n",
       "      <th>hotel_id</th>\n",
       "      <th>reservations</th>\n",
       "    </tr>\n",
       "  </thead>\n",
       "  <tbody>\n",
       "    <tr>\n",
       "      <th>0</th>\n",
       "      <td>370528</td>\n",
       "      <td>6093</td>\n",
       "    </tr>\n",
       "    <tr>\n",
       "      <th>1</th>\n",
       "      <td>62828</td>\n",
       "      <td>5031</td>\n",
       "    </tr>\n",
       "    <tr>\n",
       "      <th>2</th>\n",
       "      <td>129360</td>\n",
       "      <td>5008</td>\n",
       "    </tr>\n",
       "    <tr>\n",
       "      <th>3</th>\n",
       "      <td>27626</td>\n",
       "      <td>4995</td>\n",
       "    </tr>\n",
       "    <tr>\n",
       "      <th>4</th>\n",
       "      <td>701776</td>\n",
       "      <td>4719</td>\n",
       "    </tr>\n",
       "    <tr>\n",
       "      <th>5</th>\n",
       "      <td>62812</td>\n",
       "      <td>4507</td>\n",
       "    </tr>\n",
       "    <tr>\n",
       "      <th>6</th>\n",
       "      <td>417912</td>\n",
       "      <td>4370</td>\n",
       "    </tr>\n",
       "    <tr>\n",
       "      <th>7</th>\n",
       "      <td>62914</td>\n",
       "      <td>4094</td>\n",
       "    </tr>\n",
       "    <tr>\n",
       "      <th>8</th>\n",
       "      <td>30960</td>\n",
       "      <td>4066</td>\n",
       "    </tr>\n",
       "    <tr>\n",
       "      <th>9</th>\n",
       "      <td>62944</td>\n",
       "      <td>3861</td>\n",
       "    </tr>\n",
       "    <tr>\n",
       "      <th>10</th>\n",
       "      <td>4261654</td>\n",
       "      <td>3637</td>\n",
       "    </tr>\n",
       "    <tr>\n",
       "      <th>11</th>\n",
       "      <td>62806</td>\n",
       "      <td>3581</td>\n",
       "    </tr>\n",
       "    <tr>\n",
       "      <th>12</th>\n",
       "      <td>203434</td>\n",
       "      <td>3537</td>\n",
       "    </tr>\n",
       "    <tr>\n",
       "      <th>13</th>\n",
       "      <td>683828</td>\n",
       "      <td>3521</td>\n",
       "    </tr>\n",
       "    <tr>\n",
       "      <th>14</th>\n",
       "      <td>62808</td>\n",
       "      <td>3478</td>\n",
       "    </tr>\n",
       "    <tr>\n",
       "      <th>15</th>\n",
       "      <td>134818</td>\n",
       "      <td>3399</td>\n",
       "    </tr>\n",
       "    <tr>\n",
       "      <th>16</th>\n",
       "      <td>62862</td>\n",
       "      <td>3322</td>\n",
       "    </tr>\n",
       "    <tr>\n",
       "      <th>17</th>\n",
       "      <td>4367210</td>\n",
       "      <td>3058</td>\n",
       "    </tr>\n",
       "    <tr>\n",
       "      <th>18</th>\n",
       "      <td>28748</td>\n",
       "      <td>2991</td>\n",
       "    </tr>\n",
       "    <tr>\n",
       "      <th>19</th>\n",
       "      <td>62922</td>\n",
       "      <td>2973</td>\n",
       "    </tr>\n",
       "    <tr>\n",
       "      <th>20</th>\n",
       "      <td>397460</td>\n",
       "      <td>2744</td>\n",
       "    </tr>\n",
       "    <tr>\n",
       "      <th>21</th>\n",
       "      <td>30594</td>\n",
       "      <td>2122</td>\n",
       "    </tr>\n",
       "    <tr>\n",
       "      <th>22</th>\n",
       "      <td>62826</td>\n",
       "      <td>2069</td>\n",
       "    </tr>\n",
       "    <tr>\n",
       "      <th>23</th>\n",
       "      <td>62858</td>\n",
       "      <td>1976</td>\n",
       "    </tr>\n",
       "    <tr>\n",
       "      <th>24</th>\n",
       "      <td>62892</td>\n",
       "      <td>1937</td>\n",
       "    </tr>\n",
       "    <tr>\n",
       "      <th>25</th>\n",
       "      <td>304896</td>\n",
       "      <td>1735</td>\n",
       "    </tr>\n",
       "    <tr>\n",
       "      <th>26</th>\n",
       "      <td>62904</td>\n",
       "      <td>1672</td>\n",
       "    </tr>\n",
       "    <tr>\n",
       "      <th>27</th>\n",
       "      <td>62852</td>\n",
       "      <td>1423</td>\n",
       "    </tr>\n",
       "    <tr>\n",
       "      <th>28</th>\n",
       "      <td>258364</td>\n",
       "      <td>1388</td>\n",
       "    </tr>\n",
       "    <tr>\n",
       "      <th>29</th>\n",
       "      <td>24432</td>\n",
       "      <td>902</td>\n",
       "    </tr>\n",
       "  </tbody>\n",
       "</table>\n",
       "</div>"
      ],
      "text/plain": [
       "    hotel_id  reservations\n",
       "0     370528          6093\n",
       "1      62828          5031\n",
       "2     129360          5008\n",
       "3      27626          4995\n",
       "4     701776          4719\n",
       "5      62812          4507\n",
       "6     417912          4370\n",
       "7      62914          4094\n",
       "8      30960          4066\n",
       "9      62944          3861\n",
       "10   4261654          3637\n",
       "11     62806          3581\n",
       "12    203434          3537\n",
       "13    683828          3521\n",
       "14     62808          3478\n",
       "15    134818          3399\n",
       "16     62862          3322\n",
       "17   4367210          3058\n",
       "18     28748          2991\n",
       "19     62922          2973\n",
       "20    397460          2744\n",
       "21     30594          2122\n",
       "22     62826          2069\n",
       "23     62858          1976\n",
       "24     62892          1937\n",
       "25    304896          1735\n",
       "26     62904          1672\n",
       "27     62852          1423\n",
       "28    258364          1388\n",
       "29     24432           902"
      ]
     },
     "execution_count": 100,
     "metadata": {},
     "output_type": "execute_result"
    }
   ],
   "source": [
    "# convert hotel_id value_counts to a dataframe for information \n",
    "counts = data['hotel_id'].value_counts()\n",
    "hotel_counts = pd.DataFrame(counts)\n",
    "hotel_counts = hotel_counts.reset_index()\n",
    "hotel_counts.columns=['hotel_id','reservations']\n",
    "hotel_counts"
   ]
  },
  {
   "cell_type": "code",
   "execution_count": 101,
   "id": "bb38709a",
   "metadata": {},
   "outputs": [
    {
     "data": {
      "text/html": [
       "<div>\n",
       "<style scoped>\n",
       "    .dataframe tbody tr th:only-of-type {\n",
       "        vertical-align: middle;\n",
       "    }\n",
       "\n",
       "    .dataframe tbody tr th {\n",
       "        vertical-align: top;\n",
       "    }\n",
       "\n",
       "    .dataframe thead th {\n",
       "        text-align: right;\n",
       "    }\n",
       "</style>\n",
       "<table border=\"1\" class=\"dataframe\">\n",
       "  <thead>\n",
       "    <tr style=\"text-align: right;\">\n",
       "      <th></th>\n",
       "      <th>hotel_id</th>\n",
       "      <th>hotel_stars</th>\n",
       "      <th>reservations</th>\n",
       "      <th>percentage</th>\n",
       "    </tr>\n",
       "  </thead>\n",
       "  <tbody>\n",
       "    <tr>\n",
       "      <th>24</th>\n",
       "      <td>370528</td>\n",
       "      <td>5.0</td>\n",
       "      <td>6093</td>\n",
       "      <td>6.204116</td>\n",
       "    </tr>\n",
       "    <tr>\n",
       "      <th>5</th>\n",
       "      <td>62828</td>\n",
       "      <td>3.0</td>\n",
       "      <td>5031</td>\n",
       "      <td>5.122748</td>\n",
       "    </tr>\n",
       "    <tr>\n",
       "      <th>12</th>\n",
       "      <td>129360</td>\n",
       "      <td>4.0</td>\n",
       "      <td>5008</td>\n",
       "      <td>5.099329</td>\n",
       "    </tr>\n",
       "    <tr>\n",
       "      <th>1</th>\n",
       "      <td>27626</td>\n",
       "      <td>3.0</td>\n",
       "      <td>4995</td>\n",
       "      <td>5.086092</td>\n",
       "    </tr>\n",
       "    <tr>\n",
       "      <th>28</th>\n",
       "      <td>701776</td>\n",
       "      <td>5.0</td>\n",
       "      <td>4719</td>\n",
       "      <td>4.805059</td>\n",
       "    </tr>\n",
       "    <tr>\n",
       "      <th>18</th>\n",
       "      <td>62812</td>\n",
       "      <td>4.0</td>\n",
       "      <td>4507</td>\n",
       "      <td>4.589192</td>\n",
       "    </tr>\n",
       "    <tr>\n",
       "      <th>26</th>\n",
       "      <td>417912</td>\n",
       "      <td>5.0</td>\n",
       "      <td>4370</td>\n",
       "      <td>4.449694</td>\n",
       "    </tr>\n",
       "    <tr>\n",
       "      <th>22</th>\n",
       "      <td>62914</td>\n",
       "      <td>4.0</td>\n",
       "      <td>4094</td>\n",
       "      <td>4.168661</td>\n",
       "    </tr>\n",
       "    <tr>\n",
       "      <th>20</th>\n",
       "      <td>30960</td>\n",
       "      <td>4.0</td>\n",
       "      <td>4066</td>\n",
       "      <td>4.140150</td>\n",
       "    </tr>\n",
       "    <tr>\n",
       "      <th>13</th>\n",
       "      <td>62944</td>\n",
       "      <td>4.0</td>\n",
       "      <td>3861</td>\n",
       "      <td>3.931412</td>\n",
       "    </tr>\n",
       "    <tr>\n",
       "      <th>16</th>\n",
       "      <td>4261654</td>\n",
       "      <td>4.0</td>\n",
       "      <td>3637</td>\n",
       "      <td>3.703327</td>\n",
       "    </tr>\n",
       "    <tr>\n",
       "      <th>19</th>\n",
       "      <td>62806</td>\n",
       "      <td>4.0</td>\n",
       "      <td>3581</td>\n",
       "      <td>3.646305</td>\n",
       "    </tr>\n",
       "    <tr>\n",
       "      <th>23</th>\n",
       "      <td>203434</td>\n",
       "      <td>5.0</td>\n",
       "      <td>3537</td>\n",
       "      <td>3.601503</td>\n",
       "    </tr>\n",
       "    <tr>\n",
       "      <th>27</th>\n",
       "      <td>683828</td>\n",
       "      <td>5.0</td>\n",
       "      <td>3521</td>\n",
       "      <td>3.585211</td>\n",
       "    </tr>\n",
       "    <tr>\n",
       "      <th>3</th>\n",
       "      <td>62808</td>\n",
       "      <td>3.0</td>\n",
       "      <td>3478</td>\n",
       "      <td>3.541427</td>\n",
       "    </tr>\n",
       "    <tr>\n",
       "      <th>11</th>\n",
       "      <td>134818</td>\n",
       "      <td>4.0</td>\n",
       "      <td>3399</td>\n",
       "      <td>3.460986</td>\n",
       "    </tr>\n",
       "    <tr>\n",
       "      <th>7</th>\n",
       "      <td>62862</td>\n",
       "      <td>3.0</td>\n",
       "      <td>3322</td>\n",
       "      <td>3.382582</td>\n",
       "    </tr>\n",
       "    <tr>\n",
       "      <th>15</th>\n",
       "      <td>4367210</td>\n",
       "      <td>4.0</td>\n",
       "      <td>3058</td>\n",
       "      <td>3.113768</td>\n",
       "    </tr>\n",
       "    <tr>\n",
       "      <th>2</th>\n",
       "      <td>28748</td>\n",
       "      <td>3.0</td>\n",
       "      <td>2991</td>\n",
       "      <td>3.045546</td>\n",
       "    </tr>\n",
       "    <tr>\n",
       "      <th>14</th>\n",
       "      <td>62922</td>\n",
       "      <td>4.0</td>\n",
       "      <td>2973</td>\n",
       "      <td>3.027217</td>\n",
       "    </tr>\n",
       "    <tr>\n",
       "      <th>25</th>\n",
       "      <td>397460</td>\n",
       "      <td>5.0</td>\n",
       "      <td>2744</td>\n",
       "      <td>2.794041</td>\n",
       "    </tr>\n",
       "    <tr>\n",
       "      <th>21</th>\n",
       "      <td>30594</td>\n",
       "      <td>4.0</td>\n",
       "      <td>2122</td>\n",
       "      <td>2.160698</td>\n",
       "    </tr>\n",
       "    <tr>\n",
       "      <th>4</th>\n",
       "      <td>62826</td>\n",
       "      <td>3.0</td>\n",
       "      <td>2069</td>\n",
       "      <td>2.106732</td>\n",
       "    </tr>\n",
       "    <tr>\n",
       "      <th>17</th>\n",
       "      <td>62858</td>\n",
       "      <td>4.0</td>\n",
       "      <td>1976</td>\n",
       "      <td>2.012036</td>\n",
       "    </tr>\n",
       "    <tr>\n",
       "      <th>8</th>\n",
       "      <td>62892</td>\n",
       "      <td>3.0</td>\n",
       "      <td>1937</td>\n",
       "      <td>1.972324</td>\n",
       "    </tr>\n",
       "    <tr>\n",
       "      <th>9</th>\n",
       "      <td>304896</td>\n",
       "      <td>4.0</td>\n",
       "      <td>1735</td>\n",
       "      <td>1.766641</td>\n",
       "    </tr>\n",
       "    <tr>\n",
       "      <th>0</th>\n",
       "      <td>62904</td>\n",
       "      <td>3.0</td>\n",
       "      <td>1672</td>\n",
       "      <td>1.702492</td>\n",
       "    </tr>\n",
       "    <tr>\n",
       "      <th>6</th>\n",
       "      <td>62852</td>\n",
       "      <td>3.0</td>\n",
       "      <td>1423</td>\n",
       "      <td>1.448951</td>\n",
       "    </tr>\n",
       "    <tr>\n",
       "      <th>10</th>\n",
       "      <td>258364</td>\n",
       "      <td>4.0</td>\n",
       "      <td>1388</td>\n",
       "      <td>1.413312</td>\n",
       "    </tr>\n",
       "    <tr>\n",
       "      <th>29</th>\n",
       "      <td>24432</td>\n",
       "      <td>5.0</td>\n",
       "      <td>902</td>\n",
       "      <td>0.918449</td>\n",
       "    </tr>\n",
       "  </tbody>\n",
       "</table>\n",
       "</div>"
      ],
      "text/plain": [
       "    hotel_id  hotel_stars  reservations  percentage\n",
       "24    370528          5.0          6093    6.204116\n",
       "5      62828          3.0          5031    5.122748\n",
       "12    129360          4.0          5008    5.099329\n",
       "1      27626          3.0          4995    5.086092\n",
       "28    701776          5.0          4719    4.805059\n",
       "18     62812          4.0          4507    4.589192\n",
       "26    417912          5.0          4370    4.449694\n",
       "22     62914          4.0          4094    4.168661\n",
       "20     30960          4.0          4066    4.140150\n",
       "13     62944          4.0          3861    3.931412\n",
       "16   4261654          4.0          3637    3.703327\n",
       "19     62806          4.0          3581    3.646305\n",
       "23    203434          5.0          3537    3.601503\n",
       "27    683828          5.0          3521    3.585211\n",
       "3      62808          3.0          3478    3.541427\n",
       "11    134818          4.0          3399    3.460986\n",
       "7      62862          3.0          3322    3.382582\n",
       "15   4367210          4.0          3058    3.113768\n",
       "2      28748          3.0          2991    3.045546\n",
       "14     62922          4.0          2973    3.027217\n",
       "25    397460          5.0          2744    2.794041\n",
       "21     30594          4.0          2122    2.160698\n",
       "4      62826          3.0          2069    2.106732\n",
       "17     62858          4.0          1976    2.012036\n",
       "8      62892          3.0          1937    1.972324\n",
       "9     304896          4.0          1735    1.766641\n",
       "0      62904          3.0          1672    1.702492\n",
       "6      62852          3.0          1423    1.448951\n",
       "10    258364          4.0          1388    1.413312\n",
       "29     24432          5.0           902    0.918449"
      ]
     },
     "metadata": {},
     "output_type": "display_data"
    }
   ],
   "source": [
    "# hotel id with hotel starts infomation, number of reservations, and market share of each hotel\n",
    "hotel_info = data[['hotel_id', 'hotel_stars']].drop_duplicates().sort_values('hotel_stars').reset_index(drop = True)\n",
    "hotel_info = hotel_info.merge(hotel_counts, on ='hotel_id',how='left')\n",
    "hotel_info['percentage'] = 100*hotel_info['reservations']/hotel_info['reservations'].sum()\n",
    "hotel_info = hotel_info.sort_values(by=['percentage','hotel_stars','hotel_id'], ascending=False)\n",
    "display(hotel_info)"
   ]
  },
  {
   "cell_type": "markdown",
   "id": "98d81142",
   "metadata": {},
   "source": [
    "### Price data "
   ]
  },
  {
   "cell_type": "code",
   "execution_count": 102,
   "id": "0657d95d",
   "metadata": {},
   "outputs": [
    {
     "data": {
      "text/plain": [
       "129.0     1128\n",
       "155.0      808\n",
       "70.0       592\n",
       "136.0      577\n",
       "145.0      559\n",
       "          ... \n",
       "948.0        1\n",
       "957.0        1\n",
       "7983.0       1\n",
       "913.0        1\n",
       "901.0        1\n",
       "Name: price, Length: 970, dtype: int64"
      ]
     },
     "execution_count": 102,
     "metadata": {},
     "output_type": "execute_result"
    }
   ],
   "source": [
    "data['price'].value_counts()"
   ]
  },
  {
   "cell_type": "code",
   "execution_count": 103,
   "id": "b727d179",
   "metadata": {},
   "outputs": [
    {
     "data": {
      "text/plain": [
       "count    98209.000000\n",
       "mean       238.673431\n",
       "std        163.892242\n",
       "min         13.000000\n",
       "25%        128.000000\n",
       "50%        202.000000\n",
       "75%        313.000000\n",
       "max      10774.000000\n",
       "Name: price, dtype: float64"
      ]
     },
     "execution_count": 103,
     "metadata": {},
     "output_type": "execute_result"
    }
   ],
   "source": [
    "data['price'].describe()"
   ]
  },
  {
   "cell_type": "code",
   "execution_count": 104,
   "id": "7682f954",
   "metadata": {},
   "outputs": [
    {
     "data": {
      "text/plain": [
       "(98133, 14)"
      ]
     },
     "execution_count": 104,
     "metadata": {},
     "output_type": "execute_result"
    }
   ],
   "source": [
    "# hotel with price lower than $1000 per night\n",
    "hotel_econ = data[data['price'] < 1000]\n",
    "hotel_econ.shape"
   ]
  },
  {
   "cell_type": "code",
   "execution_count": 105,
   "id": "c9758249",
   "metadata": {},
   "outputs": [
    {
     "data": {
      "text/plain": [
       "Text(0.5, 1.0, 'Distribution of Hotel price under $1000 per night')"
      ]
     },
     "execution_count": 105,
     "metadata": {},
     "output_type": "execute_result"
    },
    {
     "data": {
      "image/png": "[encoded data removed]",
      "text/plain": [
       "<Figure size 432x288 with 1 Axes>"
      ]
     },
     "metadata": {
      "needs_background": "light"
     },
     "output_type": "display_data"
    }
   ],
   "source": [
    "hotel_econ.price.hist(bins=50)\n",
    "plt.xlabel('Hotel price')\n",
    "plt.ylabel('Count')\n",
    "plt.title('Distribution of Hotel price under $1000 per night')"
   ]
  },
  {
   "cell_type": "code",
   "execution_count": 106,
   "id": "01702226",
   "metadata": {},
   "outputs": [
    {
     "data": {
      "text/html": [
       "<div>\n",
       "<style scoped>\n",
       "    .dataframe tbody tr th:only-of-type {\n",
       "        vertical-align: middle;\n",
       "    }\n",
       "\n",
       "    .dataframe tbody tr th {\n",
       "        vertical-align: top;\n",
       "    }\n",
       "\n",
       "    .dataframe thead th {\n",
       "        text-align: right;\n",
       "    }\n",
       "</style>\n",
       "<table border=\"1\" class=\"dataframe\">\n",
       "  <thead>\n",
       "    <tr style=\"text-align: right;\">\n",
       "      <th></th>\n",
       "      <th>search_date</th>\n",
       "      <th>startdt</th>\n",
       "      <th>enddt</th>\n",
       "      <th>hotel_id</th>\n",
       "      <th>hotel_stars</th>\n",
       "      <th>price</th>\n",
       "      <th>advance_days</th>\n",
       "      <th>weekday</th>\n",
       "      <th>month_s</th>\n",
       "      <th>month_e</th>\n",
       "      <th>day_s</th>\n",
       "      <th>day_e</th>\n",
       "      <th>year_s</th>\n",
       "      <th>year_e</th>\n",
       "    </tr>\n",
       "  </thead>\n",
       "  <tbody>\n",
       "    <tr>\n",
       "      <th>2287</th>\n",
       "      <td>2021-06-26</td>\n",
       "      <td>2021-07-09</td>\n",
       "      <td>2021-07-10</td>\n",
       "      <td>62806</td>\n",
       "      <td>4.0</td>\n",
       "      <td>1240.0</td>\n",
       "      <td>13 days</td>\n",
       "      <td>5</td>\n",
       "      <td>7</td>\n",
       "      <td>7</td>\n",
       "      <td>9</td>\n",
       "      <td>10</td>\n",
       "      <td>2021</td>\n",
       "      <td>2021</td>\n",
       "    </tr>\n",
       "    <tr>\n",
       "      <th>5933</th>\n",
       "      <td>2021-06-18</td>\n",
       "      <td>2021-06-30</td>\n",
       "      <td>2021-07-30</td>\n",
       "      <td>62914</td>\n",
       "      <td>4.0</td>\n",
       "      <td>1333.0</td>\n",
       "      <td>12 days</td>\n",
       "      <td>4</td>\n",
       "      <td>6</td>\n",
       "      <td>7</td>\n",
       "      <td>30</td>\n",
       "      <td>30</td>\n",
       "      <td>2021</td>\n",
       "      <td>2021</td>\n",
       "    </tr>\n",
       "    <tr>\n",
       "      <th>5934</th>\n",
       "      <td>2021-06-18</td>\n",
       "      <td>2021-06-30</td>\n",
       "      <td>2021-07-30</td>\n",
       "      <td>62914</td>\n",
       "      <td>4.0</td>\n",
       "      <td>1333.0</td>\n",
       "      <td>12 days</td>\n",
       "      <td>4</td>\n",
       "      <td>6</td>\n",
       "      <td>7</td>\n",
       "      <td>30</td>\n",
       "      <td>30</td>\n",
       "      <td>2021</td>\n",
       "      <td>2021</td>\n",
       "    </tr>\n",
       "    <tr>\n",
       "      <th>5935</th>\n",
       "      <td>2021-06-18</td>\n",
       "      <td>2021-06-30</td>\n",
       "      <td>2021-07-30</td>\n",
       "      <td>62914</td>\n",
       "      <td>4.0</td>\n",
       "      <td>1333.0</td>\n",
       "      <td>12 days</td>\n",
       "      <td>4</td>\n",
       "      <td>6</td>\n",
       "      <td>7</td>\n",
       "      <td>30</td>\n",
       "      <td>30</td>\n",
       "      <td>2021</td>\n",
       "      <td>2021</td>\n",
       "    </tr>\n",
       "    <tr>\n",
       "      <th>5936</th>\n",
       "      <td>2021-06-18</td>\n",
       "      <td>2021-06-30</td>\n",
       "      <td>2021-07-30</td>\n",
       "      <td>62914</td>\n",
       "      <td>4.0</td>\n",
       "      <td>1333.0</td>\n",
       "      <td>12 days</td>\n",
       "      <td>4</td>\n",
       "      <td>6</td>\n",
       "      <td>7</td>\n",
       "      <td>30</td>\n",
       "      <td>30</td>\n",
       "      <td>2021</td>\n",
       "      <td>2021</td>\n",
       "    </tr>\n",
       "  </tbody>\n",
       "</table>\n",
       "</div>"
      ],
      "text/plain": [
       "     search_date    startdt      enddt  hotel_id  hotel_stars   price  \\\n",
       "2287  2021-06-26 2021-07-09 2021-07-10     62806          4.0  1240.0   \n",
       "5933  2021-06-18 2021-06-30 2021-07-30     62914          4.0  1333.0   \n",
       "5934  2021-06-18 2021-06-30 2021-07-30     62914          4.0  1333.0   \n",
       "5935  2021-06-18 2021-06-30 2021-07-30     62914          4.0  1333.0   \n",
       "5936  2021-06-18 2021-06-30 2021-07-30     62914          4.0  1333.0   \n",
       "\n",
       "     advance_days  weekday  month_s  month_e  day_s  day_e  year_s  year_e  \n",
       "2287      13 days        5        7        7      9     10    2021    2021  \n",
       "5933      12 days        4        6        7     30     30    2021    2021  \n",
       "5934      12 days        4        6        7     30     30    2021    2021  \n",
       "5935      12 days        4        6        7     30     30    2021    2021  \n",
       "5936      12 days        4        6        7     30     30    2021    2021  "
      ]
     },
     "execution_count": 106,
     "metadata": {},
     "output_type": "execute_result"
    }
   ],
   "source": [
    "hotel_high = data[(data['price'] > 1000) & (data['price'] < 7000)]\n",
    "hotel_high.head()"
   ]
  },
  {
   "cell_type": "code",
   "execution_count": 107,
   "id": "700f7b52",
   "metadata": {
    "scrolled": false
   },
   "outputs": [
    {
     "data": {
      "text/plain": [
       "Text(0, 0.5, 'Price ($) per night')"
      ]
     },
     "execution_count": 107,
     "metadata": {},
     "output_type": "execute_result"
    },
    {
     "data": {
      "image/png": "[encoded data removed]",
      "text/plain": [
       "<Figure size 432x288 with 1 Axes>"
      ]
     },
     "metadata": {
      "needs_background": "light"
     },
     "output_type": "display_data"
    }
   ],
   "source": [
    "sns.boxplot(x='hotel_stars', y='price', data=hotel_high).set(title='Hotels with price higher than $1000/night ')\n",
    "plt.ylabel('Price ($) per night')"
   ]
  },
  {
   "cell_type": "code",
   "execution_count": 108,
   "id": "e6f97a7a",
   "metadata": {
    "scrolled": true
   },
   "outputs": [
    {
     "data": {
      "text/html": [
       "<div>\n",
       "<style scoped>\n",
       "    .dataframe tbody tr th:only-of-type {\n",
       "        vertical-align: middle;\n",
       "    }\n",
       "\n",
       "    .dataframe tbody tr th {\n",
       "        vertical-align: top;\n",
       "    }\n",
       "\n",
       "    .dataframe thead th {\n",
       "        text-align: right;\n",
       "    }\n",
       "</style>\n",
       "<table border=\"1\" class=\"dataframe\">\n",
       "  <thead>\n",
       "    <tr style=\"text-align: right;\">\n",
       "      <th></th>\n",
       "      <th>search_date</th>\n",
       "      <th>startdt</th>\n",
       "      <th>enddt</th>\n",
       "      <th>hotel_id</th>\n",
       "      <th>hotel_stars</th>\n",
       "      <th>price</th>\n",
       "      <th>advance_days</th>\n",
       "      <th>weekday</th>\n",
       "      <th>month_s</th>\n",
       "      <th>month_e</th>\n",
       "      <th>day_s</th>\n",
       "      <th>day_e</th>\n",
       "      <th>year_s</th>\n",
       "      <th>year_e</th>\n",
       "    </tr>\n",
       "  </thead>\n",
       "  <tbody>\n",
       "    <tr>\n",
       "      <th>22005</th>\n",
       "      <td>2021-06-20</td>\n",
       "      <td>2021-06-26</td>\n",
       "      <td>2021-06-27</td>\n",
       "      <td>397460</td>\n",
       "      <td>5.0</td>\n",
       "      <td>7993.0</td>\n",
       "      <td>6 days</td>\n",
       "      <td>6</td>\n",
       "      <td>6</td>\n",
       "      <td>6</td>\n",
       "      <td>26</td>\n",
       "      <td>27</td>\n",
       "      <td>2021</td>\n",
       "      <td>2021</td>\n",
       "    </tr>\n",
       "    <tr>\n",
       "      <th>67295</th>\n",
       "      <td>2021-06-25</td>\n",
       "      <td>2021-07-03</td>\n",
       "      <td>2021-07-04</td>\n",
       "      <td>397460</td>\n",
       "      <td>5.0</td>\n",
       "      <td>8097.0</td>\n",
       "      <td>8 days</td>\n",
       "      <td>4</td>\n",
       "      <td>7</td>\n",
       "      <td>7</td>\n",
       "      <td>3</td>\n",
       "      <td>4</td>\n",
       "      <td>2021</td>\n",
       "      <td>2021</td>\n",
       "    </tr>\n",
       "    <tr>\n",
       "      <th>71245</th>\n",
       "      <td>2021-06-18</td>\n",
       "      <td>2021-06-25</td>\n",
       "      <td>2021-06-27</td>\n",
       "      <td>397460</td>\n",
       "      <td>5.0</td>\n",
       "      <td>10774.0</td>\n",
       "      <td>7 days</td>\n",
       "      <td>4</td>\n",
       "      <td>6</td>\n",
       "      <td>6</td>\n",
       "      <td>25</td>\n",
       "      <td>27</td>\n",
       "      <td>2021</td>\n",
       "      <td>2021</td>\n",
       "    </tr>\n",
       "    <tr>\n",
       "      <th>83484</th>\n",
       "      <td>2021-06-22</td>\n",
       "      <td>2021-06-26</td>\n",
       "      <td>2021-06-27</td>\n",
       "      <td>397460</td>\n",
       "      <td>5.0</td>\n",
       "      <td>7983.0</td>\n",
       "      <td>4 days</td>\n",
       "      <td>1</td>\n",
       "      <td>6</td>\n",
       "      <td>6</td>\n",
       "      <td>26</td>\n",
       "      <td>27</td>\n",
       "      <td>2021</td>\n",
       "      <td>2021</td>\n",
       "    </tr>\n",
       "  </tbody>\n",
       "</table>\n",
       "</div>"
      ],
      "text/plain": [
       "      search_date    startdt      enddt  hotel_id  hotel_stars    price  \\\n",
       "22005  2021-06-20 2021-06-26 2021-06-27    397460          5.0   7993.0   \n",
       "67295  2021-06-25 2021-07-03 2021-07-04    397460          5.0   8097.0   \n",
       "71245  2021-06-18 2021-06-25 2021-06-27    397460          5.0  10774.0   \n",
       "83484  2021-06-22 2021-06-26 2021-06-27    397460          5.0   7983.0   \n",
       "\n",
       "      advance_days  weekday  month_s  month_e  day_s  day_e  year_s  year_e  \n",
       "22005       6 days        6        6        6     26     27    2021    2021  \n",
       "67295       8 days        4        7        7      3      4    2021    2021  \n",
       "71245       7 days        4        6        6     25     27    2021    2021  \n",
       "83484       4 days        1        6        6     26     27    2021    2021  "
      ]
     },
     "execution_count": 108,
     "metadata": {},
     "output_type": "execute_result"
    }
   ],
   "source": [
    "# filter hotel price more than $7000 per night \n",
    "hotel_lux = data[data['price'] > 7000]\n",
    "hotel_lux"
   ]
  },
  {
   "cell_type": "code",
   "execution_count": 109,
   "id": "2dc2af05",
   "metadata": {},
   "outputs": [
    {
     "data": {
      "text/html": [
       "<div>\n",
       "<style scoped>\n",
       "    .dataframe tbody tr th:only-of-type {\n",
       "        vertical-align: middle;\n",
       "    }\n",
       "\n",
       "    .dataframe tbody tr th {\n",
       "        vertical-align: top;\n",
       "    }\n",
       "\n",
       "    .dataframe thead th {\n",
       "        text-align: right;\n",
       "    }\n",
       "</style>\n",
       "<table border=\"1\" class=\"dataframe\">\n",
       "  <thead>\n",
       "    <tr style=\"text-align: right;\">\n",
       "      <th></th>\n",
       "      <th>search_date</th>\n",
       "      <th>startdt</th>\n",
       "      <th>enddt</th>\n",
       "      <th>hotel_id</th>\n",
       "      <th>hotel_stars</th>\n",
       "      <th>price</th>\n",
       "      <th>advance_days</th>\n",
       "      <th>weekday</th>\n",
       "      <th>month_s</th>\n",
       "      <th>month_e</th>\n",
       "      <th>day_s</th>\n",
       "      <th>day_e</th>\n",
       "      <th>year_s</th>\n",
       "      <th>year_e</th>\n",
       "    </tr>\n",
       "  </thead>\n",
       "  <tbody>\n",
       "    <tr>\n",
       "      <th>71222</th>\n",
       "      <td>2021-06-05</td>\n",
       "      <td>2021-06-06</td>\n",
       "      <td>2021-06-07</td>\n",
       "      <td>397460</td>\n",
       "      <td>5.0</td>\n",
       "      <td>122.0</td>\n",
       "      <td>1 days</td>\n",
       "      <td>5</td>\n",
       "      <td>6</td>\n",
       "      <td>6</td>\n",
       "      <td>6</td>\n",
       "      <td>7</td>\n",
       "      <td>2021</td>\n",
       "      <td>2021</td>\n",
       "    </tr>\n",
       "    <tr>\n",
       "      <th>67337</th>\n",
       "      <td>2021-06-03</td>\n",
       "      <td>2021-06-06</td>\n",
       "      <td>2021-06-07</td>\n",
       "      <td>397460</td>\n",
       "      <td>5.0</td>\n",
       "      <td>122.0</td>\n",
       "      <td>3 days</td>\n",
       "      <td>3</td>\n",
       "      <td>6</td>\n",
       "      <td>6</td>\n",
       "      <td>6</td>\n",
       "      <td>7</td>\n",
       "      <td>2021</td>\n",
       "      <td>2021</td>\n",
       "    </tr>\n",
       "    <tr>\n",
       "      <th>71323</th>\n",
       "      <td>2021-06-03</td>\n",
       "      <td>2021-06-06</td>\n",
       "      <td>2021-06-07</td>\n",
       "      <td>397460</td>\n",
       "      <td>5.0</td>\n",
       "      <td>122.0</td>\n",
       "      <td>3 days</td>\n",
       "      <td>3</td>\n",
       "      <td>6</td>\n",
       "      <td>6</td>\n",
       "      <td>6</td>\n",
       "      <td>7</td>\n",
       "      <td>2021</td>\n",
       "      <td>2021</td>\n",
       "    </tr>\n",
       "    <tr>\n",
       "      <th>34413</th>\n",
       "      <td>2021-06-08</td>\n",
       "      <td>2021-06-08</td>\n",
       "      <td>2021-06-09</td>\n",
       "      <td>397460</td>\n",
       "      <td>5.0</td>\n",
       "      <td>122.0</td>\n",
       "      <td>0 days</td>\n",
       "      <td>1</td>\n",
       "      <td>6</td>\n",
       "      <td>6</td>\n",
       "      <td>8</td>\n",
       "      <td>9</td>\n",
       "      <td>2021</td>\n",
       "      <td>2021</td>\n",
       "    </tr>\n",
       "    <tr>\n",
       "      <th>9613</th>\n",
       "      <td>2021-06-08</td>\n",
       "      <td>2021-06-09</td>\n",
       "      <td>2021-06-10</td>\n",
       "      <td>397460</td>\n",
       "      <td>5.0</td>\n",
       "      <td>122.0</td>\n",
       "      <td>1 days</td>\n",
       "      <td>1</td>\n",
       "      <td>6</td>\n",
       "      <td>6</td>\n",
       "      <td>9</td>\n",
       "      <td>10</td>\n",
       "      <td>2021</td>\n",
       "      <td>2021</td>\n",
       "    </tr>\n",
       "    <tr>\n",
       "      <th>...</th>\n",
       "      <td>...</td>\n",
       "      <td>...</td>\n",
       "      <td>...</td>\n",
       "      <td>...</td>\n",
       "      <td>...</td>\n",
       "      <td>...</td>\n",
       "      <td>...</td>\n",
       "      <td>...</td>\n",
       "      <td>...</td>\n",
       "      <td>...</td>\n",
       "      <td>...</td>\n",
       "      <td>...</td>\n",
       "      <td>...</td>\n",
       "      <td>...</td>\n",
       "    </tr>\n",
       "    <tr>\n",
       "      <th>22010</th>\n",
       "      <td>2021-06-30</td>\n",
       "      <td>2021-07-02</td>\n",
       "      <td>2021-07-06</td>\n",
       "      <td>397460</td>\n",
       "      <td>5.0</td>\n",
       "      <td>1973.0</td>\n",
       "      <td>2 days</td>\n",
       "      <td>2</td>\n",
       "      <td>7</td>\n",
       "      <td>7</td>\n",
       "      <td>2</td>\n",
       "      <td>6</td>\n",
       "      <td>2021</td>\n",
       "      <td>2021</td>\n",
       "    </tr>\n",
       "    <tr>\n",
       "      <th>83484</th>\n",
       "      <td>2021-06-22</td>\n",
       "      <td>2021-06-26</td>\n",
       "      <td>2021-06-27</td>\n",
       "      <td>397460</td>\n",
       "      <td>5.0</td>\n",
       "      <td>7983.0</td>\n",
       "      <td>4 days</td>\n",
       "      <td>1</td>\n",
       "      <td>6</td>\n",
       "      <td>6</td>\n",
       "      <td>26</td>\n",
       "      <td>27</td>\n",
       "      <td>2021</td>\n",
       "      <td>2021</td>\n",
       "    </tr>\n",
       "    <tr>\n",
       "      <th>22005</th>\n",
       "      <td>2021-06-20</td>\n",
       "      <td>2021-06-26</td>\n",
       "      <td>2021-06-27</td>\n",
       "      <td>397460</td>\n",
       "      <td>5.0</td>\n",
       "      <td>7993.0</td>\n",
       "      <td>6 days</td>\n",
       "      <td>6</td>\n",
       "      <td>6</td>\n",
       "      <td>6</td>\n",
       "      <td>26</td>\n",
       "      <td>27</td>\n",
       "      <td>2021</td>\n",
       "      <td>2021</td>\n",
       "    </tr>\n",
       "    <tr>\n",
       "      <th>67295</th>\n",
       "      <td>2021-06-25</td>\n",
       "      <td>2021-07-03</td>\n",
       "      <td>2021-07-04</td>\n",
       "      <td>397460</td>\n",
       "      <td>5.0</td>\n",
       "      <td>8097.0</td>\n",
       "      <td>8 days</td>\n",
       "      <td>4</td>\n",
       "      <td>7</td>\n",
       "      <td>7</td>\n",
       "      <td>3</td>\n",
       "      <td>4</td>\n",
       "      <td>2021</td>\n",
       "      <td>2021</td>\n",
       "    </tr>\n",
       "    <tr>\n",
       "      <th>71245</th>\n",
       "      <td>2021-06-18</td>\n",
       "      <td>2021-06-25</td>\n",
       "      <td>2021-06-27</td>\n",
       "      <td>397460</td>\n",
       "      <td>5.0</td>\n",
       "      <td>10774.0</td>\n",
       "      <td>7 days</td>\n",
       "      <td>4</td>\n",
       "      <td>6</td>\n",
       "      <td>6</td>\n",
       "      <td>25</td>\n",
       "      <td>27</td>\n",
       "      <td>2021</td>\n",
       "      <td>2021</td>\n",
       "    </tr>\n",
       "  </tbody>\n",
       "</table>\n",
       "<p>2744 rows × 14 columns</p>\n",
       "</div>"
      ],
      "text/plain": [
       "      search_date    startdt      enddt  hotel_id  hotel_stars    price  \\\n",
       "71222  2021-06-05 2021-06-06 2021-06-07    397460          5.0    122.0   \n",
       "67337  2021-06-03 2021-06-06 2021-06-07    397460          5.0    122.0   \n",
       "71323  2021-06-03 2021-06-06 2021-06-07    397460          5.0    122.0   \n",
       "34413  2021-06-08 2021-06-08 2021-06-09    397460          5.0    122.0   \n",
       "9613   2021-06-08 2021-06-09 2021-06-10    397460          5.0    122.0   \n",
       "...           ...        ...        ...       ...          ...      ...   \n",
       "22010  2021-06-30 2021-07-02 2021-07-06    397460          5.0   1973.0   \n",
       "83484  2021-06-22 2021-06-26 2021-06-27    397460          5.0   7983.0   \n",
       "22005  2021-06-20 2021-06-26 2021-06-27    397460          5.0   7993.0   \n",
       "67295  2021-06-25 2021-07-03 2021-07-04    397460          5.0   8097.0   \n",
       "71245  2021-06-18 2021-06-25 2021-06-27    397460          5.0  10774.0   \n",
       "\n",
       "      advance_days  weekday  month_s  month_e  day_s  day_e  year_s  year_e  \n",
       "71222       1 days        5        6        6      6      7    2021    2021  \n",
       "67337       3 days        3        6        6      6      7    2021    2021  \n",
       "71323       3 days        3        6        6      6      7    2021    2021  \n",
       "34413       0 days        1        6        6      8      9    2021    2021  \n",
       "9613        1 days        1        6        6      9     10    2021    2021  \n",
       "...            ...      ...      ...      ...    ...    ...     ...     ...  \n",
       "22010       2 days        2        7        7      2      6    2021    2021  \n",
       "83484       4 days        1        6        6     26     27    2021    2021  \n",
       "22005       6 days        6        6        6     26     27    2021    2021  \n",
       "67295       8 days        4        7        7      3      4    2021    2021  \n",
       "71245       7 days        4        6        6     25     27    2021    2021  \n",
       "\n",
       "[2744 rows x 14 columns]"
      ]
     },
     "execution_count": 109,
     "metadata": {},
     "output_type": "execute_result"
    }
   ],
   "source": [
    "# check hotel_id = 397460\n",
    "data[data['hotel_id'] ==397460].sort_values(by='price')"
   ]
  },
  {
   "cell_type": "markdown",
   "id": "404dbfaf",
   "metadata": {},
   "source": [
    "### Each hotel's price range "
   ]
  },
  {
   "cell_type": "code",
   "execution_count": 110,
   "id": "38cb1896",
   "metadata": {},
   "outputs": [
    {
     "data": {
      "text/html": [
       "<div>\n",
       "<style scoped>\n",
       "    .dataframe tbody tr th:only-of-type {\n",
       "        vertical-align: middle;\n",
       "    }\n",
       "\n",
       "    .dataframe tbody tr th {\n",
       "        vertical-align: top;\n",
       "    }\n",
       "\n",
       "    .dataframe thead th {\n",
       "        text-align: right;\n",
       "    }\n",
       "</style>\n",
       "<table border=\"1\" class=\"dataframe\">\n",
       "  <thead>\n",
       "    <tr style=\"text-align: right;\">\n",
       "      <th></th>\n",
       "      <th>hotel_id</th>\n",
       "      <th>price_min</th>\n",
       "      <th>price_median</th>\n",
       "      <th>price_max</th>\n",
       "    </tr>\n",
       "  </thead>\n",
       "  <tbody>\n",
       "    <tr>\n",
       "      <th>0</th>\n",
       "      <td>24432</td>\n",
       "      <td>60.0</td>\n",
       "      <td>405.0</td>\n",
       "      <td>2426.0</td>\n",
       "    </tr>\n",
       "    <tr>\n",
       "      <th>1</th>\n",
       "      <td>27626</td>\n",
       "      <td>16.0</td>\n",
       "      <td>114.0</td>\n",
       "      <td>671.0</td>\n",
       "    </tr>\n",
       "    <tr>\n",
       "      <th>2</th>\n",
       "      <td>28748</td>\n",
       "      <td>63.0</td>\n",
       "      <td>173.0</td>\n",
       "      <td>622.0</td>\n",
       "    </tr>\n",
       "    <tr>\n",
       "      <th>3</th>\n",
       "      <td>30594</td>\n",
       "      <td>45.0</td>\n",
       "      <td>175.0</td>\n",
       "      <td>1755.0</td>\n",
       "    </tr>\n",
       "    <tr>\n",
       "      <th>4</th>\n",
       "      <td>30960</td>\n",
       "      <td>98.0</td>\n",
       "      <td>291.0</td>\n",
       "      <td>939.0</td>\n",
       "    </tr>\n",
       "  </tbody>\n",
       "</table>\n",
       "</div>"
      ],
      "text/plain": [
       "   hotel_id  price_min  price_median  price_max\n",
       "0     24432       60.0         405.0     2426.0\n",
       "1     27626       16.0         114.0      671.0\n",
       "2     28748       63.0         173.0      622.0\n",
       "3     30594       45.0         175.0     1755.0\n",
       "4     30960       98.0         291.0      939.0"
      ]
     },
     "execution_count": 110,
     "metadata": {},
     "output_type": "execute_result"
    }
   ],
   "source": [
    "# The highest pirce for each hotel\n",
    "hotel_price = data.groupby('hotel_id').agg({'price':['min', 'median','max']})\n",
    "hotel_price = hotel_price.reset_index()\n",
    "hotel_price.columns=['hotel_id','price_min','price_median','price_max']\n",
    "hotel_price.head()"
   ]
  },
  {
   "cell_type": "code",
   "execution_count": 111,
   "id": "ce59e244",
   "metadata": {},
   "outputs": [
    {
     "data": {
      "text/html": [
       "<div>\n",
       "<style scoped>\n",
       "    .dataframe tbody tr th:only-of-type {\n",
       "        vertical-align: middle;\n",
       "    }\n",
       "\n",
       "    .dataframe tbody tr th {\n",
       "        vertical-align: top;\n",
       "    }\n",
       "\n",
       "    .dataframe thead th {\n",
       "        text-align: right;\n",
       "    }\n",
       "</style>\n",
       "<table border=\"1\" class=\"dataframe\">\n",
       "  <thead>\n",
       "    <tr style=\"text-align: right;\">\n",
       "      <th></th>\n",
       "      <th>hotel_id</th>\n",
       "      <th>hotel_stars</th>\n",
       "      <th>reservations</th>\n",
       "      <th>percentage</th>\n",
       "      <th>price_min</th>\n",
       "      <th>price_median</th>\n",
       "      <th>price_max</th>\n",
       "    </tr>\n",
       "  </thead>\n",
       "  <tbody>\n",
       "    <tr>\n",
       "      <th>0</th>\n",
       "      <td>370528</td>\n",
       "      <td>5.0</td>\n",
       "      <td>6093</td>\n",
       "      <td>6.204116</td>\n",
       "      <td>82.0</td>\n",
       "      <td>240.0</td>\n",
       "      <td>1423.0</td>\n",
       "    </tr>\n",
       "    <tr>\n",
       "      <th>1</th>\n",
       "      <td>62828</td>\n",
       "      <td>3.0</td>\n",
       "      <td>5031</td>\n",
       "      <td>5.122748</td>\n",
       "      <td>13.0</td>\n",
       "      <td>106.0</td>\n",
       "      <td>439.0</td>\n",
       "    </tr>\n",
       "    <tr>\n",
       "      <th>2</th>\n",
       "      <td>129360</td>\n",
       "      <td>4.0</td>\n",
       "      <td>5008</td>\n",
       "      <td>5.099329</td>\n",
       "      <td>67.0</td>\n",
       "      <td>155.0</td>\n",
       "      <td>782.0</td>\n",
       "    </tr>\n",
       "    <tr>\n",
       "      <th>3</th>\n",
       "      <td>27626</td>\n",
       "      <td>3.0</td>\n",
       "      <td>4995</td>\n",
       "      <td>5.086092</td>\n",
       "      <td>16.0</td>\n",
       "      <td>114.0</td>\n",
       "      <td>671.0</td>\n",
       "    </tr>\n",
       "    <tr>\n",
       "      <th>4</th>\n",
       "      <td>701776</td>\n",
       "      <td>5.0</td>\n",
       "      <td>4719</td>\n",
       "      <td>4.805059</td>\n",
       "      <td>142.0</td>\n",
       "      <td>407.0</td>\n",
       "      <td>2671.0</td>\n",
       "    </tr>\n",
       "  </tbody>\n",
       "</table>\n",
       "</div>"
      ],
      "text/plain": [
       "   hotel_id  hotel_stars  reservations  percentage  price_min  price_median  \\\n",
       "0    370528          5.0          6093    6.204116       82.0         240.0   \n",
       "1     62828          3.0          5031    5.122748       13.0         106.0   \n",
       "2    129360          4.0          5008    5.099329       67.0         155.0   \n",
       "3     27626          3.0          4995    5.086092       16.0         114.0   \n",
       "4    701776          5.0          4719    4.805059      142.0         407.0   \n",
       "\n",
       "   price_max  \n",
       "0     1423.0  \n",
       "1      439.0  \n",
       "2      782.0  \n",
       "3      671.0  \n",
       "4     2671.0  "
      ]
     },
     "execution_count": 111,
     "metadata": {},
     "output_type": "execute_result"
    }
   ],
   "source": [
    "hotel_info = hotel_info.merge(hotel_price, on = 'hotel_id', how='left')\n",
    "hotel_info.head()"
   ]
  },
  {
   "cell_type": "markdown",
   "id": "57082af7",
   "metadata": {},
   "source": [
    "### Average price by hotel stars "
   ]
  },
  {
   "cell_type": "code",
   "execution_count": 112,
   "id": "232153c8",
   "metadata": {},
   "outputs": [
    {
     "data": {
      "text/plain": [
       "hotel_stars\n",
       "3.0    147.133628\n",
       "4.0    222.191455\n",
       "5.0    362.772657\n",
       "Name: price, dtype: float64"
      ]
     },
     "execution_count": 112,
     "metadata": {},
     "output_type": "execute_result"
    }
   ],
   "source": [
    "#Calculate the average price by hotel stars\n",
    "stars_avg_price = data.groupby('hotel_stars')['price'].mean()\n",
    "stars_avg_price.head()"
   ]
  },
  {
   "cell_type": "code",
   "execution_count": 113,
   "id": "480d925d",
   "metadata": {},
   "outputs": [
    {
     "data": {
      "text/plain": [
       "<AxesSubplot:xlabel='hotel_stars'>"
      ]
     },
     "execution_count": 113,
     "metadata": {},
     "output_type": "execute_result"
    },
    {
     "data": {
      "image/png": "[encoded data removed]",
      "text/plain": [
       "<Figure size 432x288 with 1 Axes>"
      ]
     },
     "metadata": {
      "needs_background": "light"
     },
     "output_type": "display_data"
    }
   ],
   "source": [
    "stars_avg_price.plot.bar()"
   ]
  },
  {
   "cell_type": "markdown",
   "id": "55b26940",
   "metadata": {},
   "source": [
    "### Search date"
   ]
  },
  {
   "cell_type": "code",
   "execution_count": 114,
   "id": "efb043dd",
   "metadata": {},
   "outputs": [
    {
     "data": {
      "text/plain": [
       "2021-06-15    3803\n",
       "2021-06-29    3761\n",
       "2021-06-16    3738\n",
       "2021-06-21    3648\n",
       "2021-06-28    3636\n",
       "2021-06-08    3630\n",
       "2021-06-02    3613\n",
       "2021-06-24    3608\n",
       "2021-06-09    3586\n",
       "2021-06-23    3549\n",
       "2021-06-30    3473\n",
       "2021-06-17    3415\n",
       "2021-06-14    3381\n",
       "2021-06-22    3374\n",
       "2021-06-01    3371\n",
       "2021-06-07    3356\n",
       "2021-06-03    3328\n",
       "2021-06-27    3261\n",
       "2021-06-25    3126\n",
       "2021-06-26    3072\n",
       "2021-06-10    3034\n",
       "2021-06-18    3002\n",
       "2021-06-20    2968\n",
       "2021-06-06    2951\n",
       "2021-06-04    2862\n",
       "2021-06-13    2814\n",
       "2021-06-19    2766\n",
       "2021-06-11    2751\n",
       "2021-06-05    2697\n",
       "2021-06-12    2635\n",
       "Name: search_date, dtype: int64"
      ]
     },
     "execution_count": 114,
     "metadata": {},
     "output_type": "execute_result"
    }
   ],
   "source": [
    "data['search_date'].value_counts()"
   ]
  },
  {
   "cell_type": "code",
   "execution_count": 115,
   "id": "76a10e80",
   "metadata": {},
   "outputs": [
    {
     "data": {
      "text/plain": [
       "[Text(0.5, 1.0, 'Searches per day')]"
      ]
     },
     "execution_count": 115,
     "metadata": {},
     "output_type": "execute_result"
    },
    {
     "data": {
      "image/png": "[encoded data removed]",
      "text/plain": [
       "<Figure size 432x288 with 1 Axes>"
      ]
     },
     "metadata": {
      "needs_background": "light"
     },
     "output_type": "display_data"
    }
   ],
   "source": [
    "# line plot of searching in June\n",
    "data['search_date'].value_counts().plot.line().set(title='Searches per day')"
   ]
  },
  {
   "cell_type": "code",
   "execution_count": 116,
   "id": "37fec8e5",
   "metadata": {},
   "outputs": [
    {
     "data": {
      "text/plain": [
       "2    17959\n",
       "1    17939\n",
       "0    14021\n",
       "3    13385\n",
       "6    11994\n",
       "4    11741\n",
       "5    11170\n",
       "Name: weekday, dtype: int64"
      ]
     },
     "execution_count": 116,
     "metadata": {},
     "output_type": "execute_result"
    }
   ],
   "source": [
    "data['weekday'].value_counts()"
   ]
  },
  {
   "cell_type": "markdown",
   "id": "1e4a8139",
   "metadata": {},
   "source": [
    "## Days in advance"
   ]
  },
  {
   "cell_type": "code",
   "execution_count": 117,
   "id": "ce5e23fd",
   "metadata": {},
   "outputs": [
    {
     "data": {
      "text/plain": [
       "0 days      0.061899\n",
       "1 days      0.051462\n",
       "4 days      0.029437\n",
       "3 days      0.028500\n",
       "2 days      0.028439\n",
       "              ...   \n",
       "162 days    0.000448\n",
       "176 days    0.000417\n",
       "173 days    0.000397\n",
       "178 days    0.000377\n",
       "160 days    0.000336\n",
       "Name: advance_days, Length: 181, dtype: float64"
      ]
     },
     "execution_count": 117,
     "metadata": {},
     "output_type": "execute_result"
    }
   ],
   "source": [
    "data['advance_days'].value_counts(normalize = True)"
   ]
  },
  {
   "cell_type": "code",
   "execution_count": 118,
   "id": "d755900c",
   "metadata": {},
   "outputs": [
    {
     "data": {
      "text/plain": [
       "<AxesSubplot:xlabel='Days in advance', ylabel='# of reservations'>"
      ]
     },
     "execution_count": 118,
     "metadata": {},
     "output_type": "execute_result"
    },
    {
     "data": {
      "image/png": "[encoded data removed]",
      "text/plain": [
       "<Figure size 432x288 with 1 Axes>"
      ]
     },
     "metadata": {
      "needs_background": "light"
     },
     "output_type": "display_data"
    }
   ],
   "source": [
    "data['advance_days'].value_counts().plot(kind = 'line',xlabel='Days in advance',ylabel='# of reservations')"
   ]
  },
  {
   "cell_type": "markdown",
   "id": "8e1b4c67",
   "metadata": {},
   "source": [
    "## Month / Day / Year of the trip"
   ]
  },
  {
   "cell_type": "code",
   "execution_count": 119,
   "id": "6e84868a",
   "metadata": {},
   "outputs": [
    {
     "data": {
      "text/plain": [
       "7     34015\n",
       "6     32934\n",
       "8     14007\n",
       "9      8032\n",
       "10     5704\n",
       "11     2825\n",
       "12      692\n",
       "Name: month_s, dtype: int64"
      ]
     },
     "execution_count": 119,
     "metadata": {},
     "output_type": "execute_result"
    }
   ],
   "source": [
    "data['month_s'].value_counts()"
   ]
  },
  {
   "cell_type": "code",
   "execution_count": 120,
   "id": "42a98c05",
   "metadata": {},
   "outputs": [
    {
     "data": {
      "text/plain": [
       "<AxesSubplot:>"
      ]
     },
     "execution_count": 120,
     "metadata": {},
     "output_type": "execute_result"
    },
    {
     "data": {
      "image/png": "[encoded data removed]",
      "text/plain": [
       "<Figure size 432x288 with 1 Axes>"
      ]
     },
     "metadata": {
      "needs_background": "light"
     },
     "output_type": "display_data"
    }
   ],
   "source": [
    "data.month_s.hist()"
   ]
  },
  {
   "cell_type": "code",
   "execution_count": 121,
   "id": "8830fbf8",
   "metadata": {},
   "outputs": [
    {
     "data": {
      "text/plain": [
       "<AxesSubplot:>"
      ]
     },
     "execution_count": 121,
     "metadata": {},
     "output_type": "execute_result"
    },
    {
     "data": {
      "image/png": "[encoded data removed]",
      "text/plain": [
       "<Figure size 432x288 with 1 Axes>"
      ]
     },
     "metadata": {
      "needs_background": "light"
     },
     "output_type": "display_data"
    }
   ],
   "source": [
    "data.day_s.hist()"
   ]
  },
  {
   "cell_type": "code",
   "execution_count": 122,
   "id": "8343ce19",
   "metadata": {},
   "outputs": [
    {
     "data": {
      "text/plain": [
       "2021    98209\n",
       "Name: year_s, dtype: int64"
      ]
     },
     "execution_count": 122,
     "metadata": {},
     "output_type": "execute_result"
    }
   ],
   "source": [
    "data.year_s.value_counts()"
   ]
  },
  {
   "cell_type": "code",
   "execution_count": 123,
   "id": "f78e2a78",
   "metadata": {},
   "outputs": [
    {
     "data": {
      "text/plain": [
       "2021    98198\n",
       "2022       11\n",
       "Name: year_e, dtype: int64"
      ]
     },
     "execution_count": 123,
     "metadata": {},
     "output_type": "execute_result"
    }
   ],
   "source": [
    "data.year_e.value_counts()"
   ]
  },
  {
   "cell_type": "markdown",
   "id": "cdc8b7f2",
   "metadata": {},
   "source": [
    "## Data visualization"
   ]
  },
  {
   "cell_type": "code",
   "execution_count": 124,
   "id": "24a88ae6",
   "metadata": {},
   "outputs": [
    {
     "data": {
      "image/png": "[encoded data removed]",
      "text/plain": [
       "<Figure size 864x576 with 2 Axes>"
      ]
     },
     "metadata": {
      "needs_background": "light"
     },
     "output_type": "display_data"
    }
   ],
   "source": [
    "#Create two subplots on hotel_id and hotel_stars\n",
    "fig, ax = plt.subplots(1, 2, figsize=(12,8))\n",
    "data.hotel_id.value_counts().plot(kind='barh', ax=ax[0])\n",
    "ax[0].set_title('Hotel_id')\n",
    "ax[0].set_xlabel('Count')\n",
    "\n",
    "data.hotel_stars.value_counts().plot(kind='barh', ax=ax[1])\n",
    "ax[1].set_title('Hotel_stars')\n",
    "ax[1].set_xlabel('Count')\n",
    "\n",
    "plt.subplots_adjust(wspace=0.5);"
   ]
  },
  {
   "cell_type": "code",
   "execution_count": 125,
   "id": "0cdb380a",
   "metadata": {
    "scrolled": true
   },
   "outputs": [
    {
     "data": {
      "image/png": "[encoded data removed]",
      "text/plain": [
       "<Figure size 1080x720 with 16 Axes>"
      ]
     },
     "metadata": {
      "needs_background": "light"
     },
     "output_type": "display_data"
    }
   ],
   "source": [
    "data.hist(figsize=(15,10))\n",
    "plt.subplots_adjust(hspace=0.5);"
   ]
  },
  {
   "cell_type": "markdown",
   "id": "e254ec01",
   "metadata": {},
   "source": [
    "## Hotel price analysis - when to book for a good deal"
   ]
  },
  {
   "cell_type": "code",
   "execution_count": 126,
   "id": "a86564ce",
   "metadata": {},
   "outputs": [
    {
     "data": {
      "text/html": [
       "<div>\n",
       "<style scoped>\n",
       "    .dataframe tbody tr th:only-of-type {\n",
       "        vertical-align: middle;\n",
       "    }\n",
       "\n",
       "    .dataframe tbody tr th {\n",
       "        vertical-align: top;\n",
       "    }\n",
       "\n",
       "    .dataframe thead th {\n",
       "        text-align: right;\n",
       "    }\n",
       "</style>\n",
       "<table border=\"1\" class=\"dataframe\">\n",
       "  <thead>\n",
       "    <tr style=\"text-align: right;\">\n",
       "      <th></th>\n",
       "      <th>search_date</th>\n",
       "      <th>startdt</th>\n",
       "      <th>enddt</th>\n",
       "      <th>hotel_id</th>\n",
       "      <th>hotel_stars</th>\n",
       "      <th>price</th>\n",
       "      <th>advance_days</th>\n",
       "      <th>weekday</th>\n",
       "      <th>month_s</th>\n",
       "      <th>month_e</th>\n",
       "      <th>day_s</th>\n",
       "      <th>day_e</th>\n",
       "      <th>year_s</th>\n",
       "      <th>year_e</th>\n",
       "    </tr>\n",
       "  </thead>\n",
       "  <tbody>\n",
       "    <tr>\n",
       "      <th>0</th>\n",
       "      <td>2021-06-29</td>\n",
       "      <td>2021-07-07</td>\n",
       "      <td>2021-07-11</td>\n",
       "      <td>24432</td>\n",
       "      <td>5.0</td>\n",
       "      <td>555.0</td>\n",
       "      <td>8 days</td>\n",
       "      <td>1</td>\n",
       "      <td>7</td>\n",
       "      <td>7</td>\n",
       "      <td>7</td>\n",
       "      <td>11</td>\n",
       "      <td>2021</td>\n",
       "      <td>2021</td>\n",
       "    </tr>\n",
       "    <tr>\n",
       "      <th>1</th>\n",
       "      <td>2021-06-12</td>\n",
       "      <td>2021-07-05</td>\n",
       "      <td>2021-07-09</td>\n",
       "      <td>24432</td>\n",
       "      <td>5.0</td>\n",
       "      <td>267.0</td>\n",
       "      <td>23 days</td>\n",
       "      <td>5</td>\n",
       "      <td>7</td>\n",
       "      <td>7</td>\n",
       "      <td>5</td>\n",
       "      <td>9</td>\n",
       "      <td>2021</td>\n",
       "      <td>2021</td>\n",
       "    </tr>\n",
       "    <tr>\n",
       "      <th>2</th>\n",
       "      <td>2021-06-06</td>\n",
       "      <td>2021-07-29</td>\n",
       "      <td>2021-08-01</td>\n",
       "      <td>24432</td>\n",
       "      <td>5.0</td>\n",
       "      <td>318.0</td>\n",
       "      <td>53 days</td>\n",
       "      <td>6</td>\n",
       "      <td>7</td>\n",
       "      <td>8</td>\n",
       "      <td>29</td>\n",
       "      <td>1</td>\n",
       "      <td>2021</td>\n",
       "      <td>2021</td>\n",
       "    </tr>\n",
       "    <tr>\n",
       "      <th>3</th>\n",
       "      <td>2021-06-21</td>\n",
       "      <td>2021-06-26</td>\n",
       "      <td>2021-07-02</td>\n",
       "      <td>24432</td>\n",
       "      <td>5.0</td>\n",
       "      <td>362.0</td>\n",
       "      <td>5 days</td>\n",
       "      <td>0</td>\n",
       "      <td>6</td>\n",
       "      <td>7</td>\n",
       "      <td>26</td>\n",
       "      <td>2</td>\n",
       "      <td>2021</td>\n",
       "      <td>2021</td>\n",
       "    </tr>\n",
       "    <tr>\n",
       "      <th>4</th>\n",
       "      <td>2021-06-29</td>\n",
       "      <td>2021-08-23</td>\n",
       "      <td>2021-08-25</td>\n",
       "      <td>24432</td>\n",
       "      <td>5.0</td>\n",
       "      <td>403.0</td>\n",
       "      <td>55 days</td>\n",
       "      <td>1</td>\n",
       "      <td>8</td>\n",
       "      <td>8</td>\n",
       "      <td>23</td>\n",
       "      <td>25</td>\n",
       "      <td>2021</td>\n",
       "      <td>2021</td>\n",
       "    </tr>\n",
       "    <tr>\n",
       "      <th>...</th>\n",
       "      <td>...</td>\n",
       "      <td>...</td>\n",
       "      <td>...</td>\n",
       "      <td>...</td>\n",
       "      <td>...</td>\n",
       "      <td>...</td>\n",
       "      <td>...</td>\n",
       "      <td>...</td>\n",
       "      <td>...</td>\n",
       "      <td>...</td>\n",
       "      <td>...</td>\n",
       "      <td>...</td>\n",
       "      <td>...</td>\n",
       "      <td>...</td>\n",
       "    </tr>\n",
       "    <tr>\n",
       "      <th>98204</th>\n",
       "      <td>2021-06-26</td>\n",
       "      <td>2021-09-04</td>\n",
       "      <td>2021-09-07</td>\n",
       "      <td>4367210</td>\n",
       "      <td>4.0</td>\n",
       "      <td>195.0</td>\n",
       "      <td>70 days</td>\n",
       "      <td>5</td>\n",
       "      <td>9</td>\n",
       "      <td>9</td>\n",
       "      <td>4</td>\n",
       "      <td>7</td>\n",
       "      <td>2021</td>\n",
       "      <td>2021</td>\n",
       "    </tr>\n",
       "    <tr>\n",
       "      <th>98205</th>\n",
       "      <td>2021-06-18</td>\n",
       "      <td>2021-07-18</td>\n",
       "      <td>2021-07-21</td>\n",
       "      <td>4367210</td>\n",
       "      <td>4.0</td>\n",
       "      <td>97.0</td>\n",
       "      <td>30 days</td>\n",
       "      <td>4</td>\n",
       "      <td>7</td>\n",
       "      <td>7</td>\n",
       "      <td>18</td>\n",
       "      <td>21</td>\n",
       "      <td>2021</td>\n",
       "      <td>2021</td>\n",
       "    </tr>\n",
       "    <tr>\n",
       "      <th>98206</th>\n",
       "      <td>2021-06-28</td>\n",
       "      <td>2021-08-22</td>\n",
       "      <td>2021-08-27</td>\n",
       "      <td>4367210</td>\n",
       "      <td>4.0</td>\n",
       "      <td>87.0</td>\n",
       "      <td>55 days</td>\n",
       "      <td>0</td>\n",
       "      <td>8</td>\n",
       "      <td>8</td>\n",
       "      <td>22</td>\n",
       "      <td>27</td>\n",
       "      <td>2021</td>\n",
       "      <td>2021</td>\n",
       "    </tr>\n",
       "    <tr>\n",
       "      <th>98207</th>\n",
       "      <td>2021-06-30</td>\n",
       "      <td>2021-12-09</td>\n",
       "      <td>2021-12-13</td>\n",
       "      <td>4367210</td>\n",
       "      <td>4.0</td>\n",
       "      <td>138.0</td>\n",
       "      <td>162 days</td>\n",
       "      <td>2</td>\n",
       "      <td>12</td>\n",
       "      <td>12</td>\n",
       "      <td>9</td>\n",
       "      <td>13</td>\n",
       "      <td>2021</td>\n",
       "      <td>2021</td>\n",
       "    </tr>\n",
       "    <tr>\n",
       "      <th>98208</th>\n",
       "      <td>2021-06-19</td>\n",
       "      <td>2021-08-22</td>\n",
       "      <td>2021-08-30</td>\n",
       "      <td>4367210</td>\n",
       "      <td>4.0</td>\n",
       "      <td>124.0</td>\n",
       "      <td>64 days</td>\n",
       "      <td>5</td>\n",
       "      <td>8</td>\n",
       "      <td>8</td>\n",
       "      <td>22</td>\n",
       "      <td>30</td>\n",
       "      <td>2021</td>\n",
       "      <td>2021</td>\n",
       "    </tr>\n",
       "  </tbody>\n",
       "</table>\n",
       "<p>98209 rows × 14 columns</p>\n",
       "</div>"
      ],
      "text/plain": [
       "      search_date    startdt      enddt  hotel_id  hotel_stars  price  \\\n",
       "0      2021-06-29 2021-07-07 2021-07-11     24432          5.0  555.0   \n",
       "1      2021-06-12 2021-07-05 2021-07-09     24432          5.0  267.0   \n",
       "2      2021-06-06 2021-07-29 2021-08-01     24432          5.0  318.0   \n",
       "3      2021-06-21 2021-06-26 2021-07-02     24432          5.0  362.0   \n",
       "4      2021-06-29 2021-08-23 2021-08-25     24432          5.0  403.0   \n",
       "...           ...        ...        ...       ...          ...    ...   \n",
       "98204  2021-06-26 2021-09-04 2021-09-07   4367210          4.0  195.0   \n",
       "98205  2021-06-18 2021-07-18 2021-07-21   4367210          4.0   97.0   \n",
       "98206  2021-06-28 2021-08-22 2021-08-27   4367210          4.0   87.0   \n",
       "98207  2021-06-30 2021-12-09 2021-12-13   4367210          4.0  138.0   \n",
       "98208  2021-06-19 2021-08-22 2021-08-30   4367210          4.0  124.0   \n",
       "\n",
       "      advance_days  weekday  month_s  month_e  day_s  day_e  year_s  year_e  \n",
       "0           8 days        1        7        7      7     11    2021    2021  \n",
       "1          23 days        5        7        7      5      9    2021    2021  \n",
       "2          53 days        6        7        8     29      1    2021    2021  \n",
       "3           5 days        0        6        7     26      2    2021    2021  \n",
       "4          55 days        1        8        8     23     25    2021    2021  \n",
       "...            ...      ...      ...      ...    ...    ...     ...     ...  \n",
       "98204      70 days        5        9        9      4      7    2021    2021  \n",
       "98205      30 days        4        7        7     18     21    2021    2021  \n",
       "98206      55 days        0        8        8     22     27    2021    2021  \n",
       "98207     162 days        2       12       12      9     13    2021    2021  \n",
       "98208      64 days        5        8        8     22     30    2021    2021  \n",
       "\n",
       "[98209 rows x 14 columns]"
      ]
     },
     "execution_count": 126,
     "metadata": {},
     "output_type": "execute_result"
    }
   ],
   "source": [
    "data"
   ]
  },
  {
   "cell_type": "code",
   "execution_count": 127,
   "id": "23149a2c",
   "metadata": {},
   "outputs": [
    {
     "data": {
      "text/plain": [
       "hotel_stars\n",
       "3.0    147.133628\n",
       "4.0    222.191455\n",
       "5.0    362.772657\n",
       "Name: price, dtype: float64"
      ]
     },
     "execution_count": 127,
     "metadata": {},
     "output_type": "execute_result"
    }
   ],
   "source": [
    "# mean price by hotel_stars\n",
    "data.groupby('hotel_stars')['price'].mean()"
   ]
  },
  {
   "cell_type": "code",
   "execution_count": 128,
   "id": "381dce06",
   "metadata": {},
   "outputs": [
    {
     "data": {
      "text/plain": [
       "hotel_stars\n",
       "3.0    130.0\n",
       "4.0    194.0\n",
       "5.0    332.0\n",
       "Name: price, dtype: float64"
      ]
     },
     "execution_count": 128,
     "metadata": {},
     "output_type": "execute_result"
    }
   ],
   "source": [
    "# median price by hotel_stars\n",
    "data.groupby('hotel_stars')['price'].median()"
   ]
  },
  {
   "cell_type": "code",
   "execution_count": 129,
   "id": "45f7c27d",
   "metadata": {},
   "outputs": [
    {
     "data": {
      "text/plain": [
       "0 days      6\n",
       "5 days      3\n",
       "3 days      2\n",
       "1 days      2\n",
       "8 days      2\n",
       "27 days     1\n",
       "174 days    1\n",
       "9 days      1\n",
       "40 days     1\n",
       "15 days     1\n",
       "21 days     1\n",
       "52 days     1\n",
       "16 days     1\n",
       "2 days      1\n",
       "25 days     1\n",
       "12 days     1\n",
       "23 days     1\n",
       "26 days     1\n",
       "32 days     1\n",
       "167 days    1\n",
       "Name: advance_days, dtype: int64"
      ]
     },
     "execution_count": 129,
     "metadata": {},
     "output_type": "execute_result"
    }
   ],
   "source": [
    "# for each hotel's lowest price, how many days in advance did the customers make the reservation\n",
    "hotel_min = data.iloc[data.groupby('hotel_id')['price'].idxmin()]\n",
    "hotel_min\n",
    "hotel_min['advance_days'].value_counts()"
   ]
  },
  {
   "cell_type": "code",
   "execution_count": 130,
   "id": "1fa612a4",
   "metadata": {},
   "outputs": [],
   "source": [
    "# save the median price grouped by advance_days to a dataframe for plotting \n",
    "hotel_book = data.groupby('advance_days')['price'].median().to_frame()"
   ]
  },
  {
   "cell_type": "code",
   "execution_count": 131,
   "id": "00313ce8",
   "metadata": {
    "scrolled": true
   },
   "outputs": [
    {
     "data": {
      "text/plain": [
       "[Text(0.5, 1.0, 'Median Price Changes')]"
      ]
     },
     "execution_count": 131,
     "metadata": {},
     "output_type": "execute_result"
    },
    {
     "data": {
      "image/png": "[encoded data removed]",
      "text/plain": [
       "<Figure size 1080x360 with 1 Axes>"
      ]
     },
     "metadata": {
      "needs_background": "light"
     },
     "output_type": "display_data"
    }
   ],
   "source": [
    "plt.figure(figsize=(15,5))\n",
    "sns.lineplot(data=hotel_book).set(title='Median Price Changes')"
   ]
  },
  {
   "cell_type": "code",
   "execution_count": 132,
   "id": "f1084599",
   "metadata": {},
   "outputs": [
    {
     "data": {
      "text/html": [
       "<div>\n",
       "<style scoped>\n",
       "    .dataframe tbody tr th:only-of-type {\n",
       "        vertical-align: middle;\n",
       "    }\n",
       "\n",
       "    .dataframe tbody tr th {\n",
       "        vertical-align: top;\n",
       "    }\n",
       "\n",
       "    .dataframe thead th {\n",
       "        text-align: right;\n",
       "    }\n",
       "</style>\n",
       "<table border=\"1\" class=\"dataframe\">\n",
       "  <thead>\n",
       "    <tr style=\"text-align: right;\">\n",
       "      <th></th>\n",
       "      <th>price</th>\n",
       "    </tr>\n",
       "    <tr>\n",
       "      <th>advance_days</th>\n",
       "      <th></th>\n",
       "    </tr>\n",
       "  </thead>\n",
       "  <tbody>\n",
       "    <tr>\n",
       "      <th>180 days</th>\n",
       "      <td>127.0</td>\n",
       "    </tr>\n",
       "    <tr>\n",
       "      <th>173 days</th>\n",
       "      <td>141.0</td>\n",
       "    </tr>\n",
       "    <tr>\n",
       "      <th>174 days</th>\n",
       "      <td>146.0</td>\n",
       "    </tr>\n",
       "    <tr>\n",
       "      <th>0 days</th>\n",
       "      <td>148.0</td>\n",
       "    </tr>\n",
       "    <tr>\n",
       "      <th>166 days</th>\n",
       "      <td>149.0</td>\n",
       "    </tr>\n",
       "    <tr>\n",
       "      <th>172 days</th>\n",
       "      <td>149.0</td>\n",
       "    </tr>\n",
       "    <tr>\n",
       "      <th>179 days</th>\n",
       "      <td>150.5</td>\n",
       "    </tr>\n",
       "    <tr>\n",
       "      <th>176 days</th>\n",
       "      <td>153.0</td>\n",
       "    </tr>\n",
       "    <tr>\n",
       "      <th>1 days</th>\n",
       "      <td>156.0</td>\n",
       "    </tr>\n",
       "    <tr>\n",
       "      <th>157 days</th>\n",
       "      <td>156.5</td>\n",
       "    </tr>\n",
       "    <tr>\n",
       "      <th>178 days</th>\n",
       "      <td>158.0</td>\n",
       "    </tr>\n",
       "    <tr>\n",
       "      <th>34 days</th>\n",
       "      <td>164.0</td>\n",
       "    </tr>\n",
       "    <tr>\n",
       "      <th>165 days</th>\n",
       "      <td>167.0</td>\n",
       "    </tr>\n",
       "    <tr>\n",
       "      <th>68 days</th>\n",
       "      <td>170.0</td>\n",
       "    </tr>\n",
       "    <tr>\n",
       "      <th>35 days</th>\n",
       "      <td>170.0</td>\n",
       "    </tr>\n",
       "    <tr>\n",
       "      <th>48 days</th>\n",
       "      <td>171.0</td>\n",
       "    </tr>\n",
       "    <tr>\n",
       "      <th>40 days</th>\n",
       "      <td>175.5</td>\n",
       "    </tr>\n",
       "    <tr>\n",
       "      <th>46 days</th>\n",
       "      <td>176.5</td>\n",
       "    </tr>\n",
       "    <tr>\n",
       "      <th>55 days</th>\n",
       "      <td>177.5</td>\n",
       "    </tr>\n",
       "    <tr>\n",
       "      <th>169 days</th>\n",
       "      <td>178.0</td>\n",
       "    </tr>\n",
       "  </tbody>\n",
       "</table>\n",
       "</div>"
      ],
      "text/plain": [
       "              price\n",
       "advance_days       \n",
       "180 days      127.0\n",
       "173 days      141.0\n",
       "174 days      146.0\n",
       "0 days        148.0\n",
       "166 days      149.0\n",
       "172 days      149.0\n",
       "179 days      150.5\n",
       "176 days      153.0\n",
       "1 days        156.0\n",
       "157 days      156.5\n",
       "178 days      158.0\n",
       "34 days       164.0\n",
       "165 days      167.0\n",
       "68 days       170.0\n",
       "35 days       170.0\n",
       "48 days       171.0\n",
       "40 days       175.5\n",
       "46 days       176.5\n",
       "55 days       177.5\n",
       "169 days      178.0"
      ]
     },
     "execution_count": 132,
     "metadata": {},
     "output_type": "execute_result"
    }
   ],
   "source": [
    "# sort the median price in ascending order for the corresponding advance_days\n",
    "hotel_book.sort_values(by='price').head(20)"
   ]
  },
  {
   "cell_type": "code",
   "execution_count": 133,
   "id": "04017161",
   "metadata": {},
   "outputs": [
    {
     "data": {
      "text/html": [
       "<div>\n",
       "<style scoped>\n",
       "    .dataframe tbody tr th:only-of-type {\n",
       "        vertical-align: middle;\n",
       "    }\n",
       "\n",
       "    .dataframe tbody tr th {\n",
       "        vertical-align: top;\n",
       "    }\n",
       "\n",
       "    .dataframe thead th {\n",
       "        text-align: right;\n",
       "    }\n",
       "</style>\n",
       "<table border=\"1\" class=\"dataframe\">\n",
       "  <thead>\n",
       "    <tr style=\"text-align: right;\">\n",
       "      <th></th>\n",
       "      <th>price</th>\n",
       "    </tr>\n",
       "    <tr>\n",
       "      <th>advance_days</th>\n",
       "      <th></th>\n",
       "    </tr>\n",
       "  </thead>\n",
       "  <tbody>\n",
       "    <tr>\n",
       "      <th>167 days</th>\n",
       "      <td>59.0</td>\n",
       "    </tr>\n",
       "    <tr>\n",
       "      <th>171 days</th>\n",
       "      <td>59.5</td>\n",
       "    </tr>\n",
       "    <tr>\n",
       "      <th>173 days</th>\n",
       "      <td>68.5</td>\n",
       "    </tr>\n",
       "    <tr>\n",
       "      <th>174 days</th>\n",
       "      <td>70.0</td>\n",
       "    </tr>\n",
       "    <tr>\n",
       "      <th>168 days</th>\n",
       "      <td>70.0</td>\n",
       "    </tr>\n",
       "    <tr>\n",
       "      <th>169 days</th>\n",
       "      <td>73.0</td>\n",
       "    </tr>\n",
       "    <tr>\n",
       "      <th>162 days</th>\n",
       "      <td>78.0</td>\n",
       "    </tr>\n",
       "    <tr>\n",
       "      <th>157 days</th>\n",
       "      <td>78.0</td>\n",
       "    </tr>\n",
       "    <tr>\n",
       "      <th>180 days</th>\n",
       "      <td>80.0</td>\n",
       "    </tr>\n",
       "    <tr>\n",
       "      <th>166 days</th>\n",
       "      <td>81.0</td>\n",
       "    </tr>\n",
       "  </tbody>\n",
       "</table>\n",
       "</div>"
      ],
      "text/plain": [
       "              price\n",
       "advance_days       \n",
       "167 days       59.0\n",
       "171 days       59.5\n",
       "173 days       68.5\n",
       "174 days       70.0\n",
       "168 days       70.0\n",
       "169 days       73.0\n",
       "162 days       78.0\n",
       "157 days       78.0\n",
       "180 days       80.0\n",
       "166 days       81.0"
      ]
     },
     "execution_count": 133,
     "metadata": {},
     "output_type": "execute_result"
    }
   ],
   "source": [
    "# for 3-star hotels\n",
    "hotel3 = data[(data.hotel_stars == 3)]\n",
    "hotel3_book = hotel3.groupby('advance_days')['price'].median().to_frame()\n",
    "hotel3_book.sort_values(by='price').head(10)"
   ]
  },
  {
   "cell_type": "code",
   "execution_count": 134,
   "id": "4cd0b9bb",
   "metadata": {},
   "outputs": [
    {
     "data": {
      "text/plain": [
       "[Text(0.5, 1.0, '3-Star Hotel Price (median)')]"
      ]
     },
     "execution_count": 134,
     "metadata": {},
     "output_type": "execute_result"
    },
    {
     "data": {
      "image/png": "[encoded data removed]",
      "text/plain": [
       "<Figure size 1080x360 with 1 Axes>"
      ]
     },
     "metadata": {
      "needs_background": "light"
     },
     "output_type": "display_data"
    }
   ],
   "source": [
    "plt.figure(figsize=(15,5))\n",
    "sns.lineplot(x='advance_days',y='price',data=hotel3_book).set(title='3-Star Hotel Price (median)')"
   ]
  },
  {
   "cell_type": "code",
   "execution_count": 135,
   "id": "94021d10",
   "metadata": {},
   "outputs": [
    {
     "data": {
      "text/html": [
       "<div>\n",
       "<style scoped>\n",
       "    .dataframe tbody tr th:only-of-type {\n",
       "        vertical-align: middle;\n",
       "    }\n",
       "\n",
       "    .dataframe tbody tr th {\n",
       "        vertical-align: top;\n",
       "    }\n",
       "\n",
       "    .dataframe thead th {\n",
       "        text-align: right;\n",
       "    }\n",
       "</style>\n",
       "<table border=\"1\" class=\"dataframe\">\n",
       "  <thead>\n",
       "    <tr style=\"text-align: right;\">\n",
       "      <th></th>\n",
       "      <th>price</th>\n",
       "    </tr>\n",
       "    <tr>\n",
       "      <th>advance_days</th>\n",
       "      <th></th>\n",
       "    </tr>\n",
       "  </thead>\n",
       "  <tbody>\n",
       "    <tr>\n",
       "      <th>180 days</th>\n",
       "      <td>123.5</td>\n",
       "    </tr>\n",
       "    <tr>\n",
       "      <th>174 days</th>\n",
       "      <td>134.0</td>\n",
       "    </tr>\n",
       "    <tr>\n",
       "      <th>165 days</th>\n",
       "      <td>142.0</td>\n",
       "    </tr>\n",
       "    <tr>\n",
       "      <th>179 days</th>\n",
       "      <td>143.0</td>\n",
       "    </tr>\n",
       "    <tr>\n",
       "      <th>170 days</th>\n",
       "      <td>147.0</td>\n",
       "    </tr>\n",
       "    <tr>\n",
       "      <th>166 days</th>\n",
       "      <td>149.0</td>\n",
       "    </tr>\n",
       "    <tr>\n",
       "      <th>0 days</th>\n",
       "      <td>155.0</td>\n",
       "    </tr>\n",
       "    <tr>\n",
       "      <th>1 days</th>\n",
       "      <td>156.0</td>\n",
       "    </tr>\n",
       "    <tr>\n",
       "      <th>47 days</th>\n",
       "      <td>156.5</td>\n",
       "    </tr>\n",
       "    <tr>\n",
       "      <th>36 days</th>\n",
       "      <td>157.5</td>\n",
       "    </tr>\n",
       "  </tbody>\n",
       "</table>\n",
       "</div>"
      ],
      "text/plain": [
       "              price\n",
       "advance_days       \n",
       "180 days      123.5\n",
       "174 days      134.0\n",
       "165 days      142.0\n",
       "179 days      143.0\n",
       "170 days      147.0\n",
       "166 days      149.0\n",
       "0 days        155.0\n",
       "1 days        156.0\n",
       "47 days       156.5\n",
       "36 days       157.5"
      ]
     },
     "execution_count": 135,
     "metadata": {},
     "output_type": "execute_result"
    }
   ],
   "source": [
    "# for 4-star hotel\n",
    "hotel4 = data[(data.hotel_stars == 4)]\n",
    "hotel4_book = hotel4.groupby('advance_days')['price'].median().to_frame()\n",
    "hotel4_book.sort_values(by='price').head(10)"
   ]
  },
  {
   "cell_type": "code",
   "execution_count": 136,
   "id": "cbace2f4",
   "metadata": {
    "scrolled": true
   },
   "outputs": [
    {
     "data": {
      "text/plain": [
       "[Text(0.5, 1.0, '4-Star Hotel Price (median)')]"
      ]
     },
     "execution_count": 136,
     "metadata": {},
     "output_type": "execute_result"
    },
    {
     "data": {
      "image/png": "[encoded data removed]",
      "text/plain": [
       "<Figure size 1080x360 with 1 Axes>"
      ]
     },
     "metadata": {
      "needs_background": "light"
     },
     "output_type": "display_data"
    }
   ],
   "source": [
    "plt.figure(figsize=(15,5))\n",
    "sns.lineplot(x='advance_days',y='price',data=hotel4_book).set(title='4-Star Hotel Price (median)')"
   ]
  },
  {
   "cell_type": "code",
   "execution_count": 137,
   "id": "f941f435",
   "metadata": {},
   "outputs": [
    {
     "data": {
      "text/html": [
       "<div>\n",
       "<style scoped>\n",
       "    .dataframe tbody tr th:only-of-type {\n",
       "        vertical-align: middle;\n",
       "    }\n",
       "\n",
       "    .dataframe tbody tr th {\n",
       "        vertical-align: top;\n",
       "    }\n",
       "\n",
       "    .dataframe thead th {\n",
       "        text-align: right;\n",
       "    }\n",
       "</style>\n",
       "<table border=\"1\" class=\"dataframe\">\n",
       "  <thead>\n",
       "    <tr style=\"text-align: right;\">\n",
       "      <th></th>\n",
       "      <th>price</th>\n",
       "    </tr>\n",
       "    <tr>\n",
       "      <th>advance_days</th>\n",
       "      <th></th>\n",
       "    </tr>\n",
       "  </thead>\n",
       "  <tbody>\n",
       "    <tr>\n",
       "      <th>178 days</th>\n",
       "      <td>186.5</td>\n",
       "    </tr>\n",
       "    <tr>\n",
       "      <th>175 days</th>\n",
       "      <td>191.0</td>\n",
       "    </tr>\n",
       "    <tr>\n",
       "      <th>167 days</th>\n",
       "      <td>218.5</td>\n",
       "    </tr>\n",
       "    <tr>\n",
       "      <th>165 days</th>\n",
       "      <td>224.0</td>\n",
       "    </tr>\n",
       "    <tr>\n",
       "      <th>179 days</th>\n",
       "      <td>224.0</td>\n",
       "    </tr>\n",
       "    <tr>\n",
       "      <th>180 days</th>\n",
       "      <td>231.0</td>\n",
       "    </tr>\n",
       "    <tr>\n",
       "      <th>156 days</th>\n",
       "      <td>243.0</td>\n",
       "    </tr>\n",
       "    <tr>\n",
       "      <th>0 days</th>\n",
       "      <td>246.0</td>\n",
       "    </tr>\n",
       "    <tr>\n",
       "      <th>154 days</th>\n",
       "      <td>250.0</td>\n",
       "    </tr>\n",
       "    <tr>\n",
       "      <th>172 days</th>\n",
       "      <td>254.5</td>\n",
       "    </tr>\n",
       "  </tbody>\n",
       "</table>\n",
       "</div>"
      ],
      "text/plain": [
       "              price\n",
       "advance_days       \n",
       "178 days      186.5\n",
       "175 days      191.0\n",
       "167 days      218.5\n",
       "165 days      224.0\n",
       "179 days      224.0\n",
       "180 days      231.0\n",
       "156 days      243.0\n",
       "0 days        246.0\n",
       "154 days      250.0\n",
       "172 days      254.5"
      ]
     },
     "execution_count": 137,
     "metadata": {},
     "output_type": "execute_result"
    }
   ],
   "source": [
    "hotel5 = data[(data.hotel_stars == 5)]\n",
    "hotel5_book = hotel5.groupby('advance_days')['price'].median().to_frame()\n",
    "hotel5_book.sort_values(by='price').head(10)"
   ]
  },
  {
   "cell_type": "code",
   "execution_count": 138,
   "id": "250f02f8",
   "metadata": {},
   "outputs": [
    {
     "data": {
      "text/plain": [
       "[Text(0.5, 1.0, '5-Star Hotel Price (median)')]"
      ]
     },
     "execution_count": 138,
     "metadata": {},
     "output_type": "execute_result"
    },
    {
     "data": {
      "image/png": "[encoded data removed]",
      "text/plain": [
       "<Figure size 1080x360 with 1 Axes>"
      ]
     },
     "metadata": {
      "needs_background": "light"
     },
     "output_type": "display_data"
    }
   ],
   "source": [
    "plt.figure(figsize=(15,5))\n",
    "sns.lineplot(x='advance_days',y='price',data=hotel5_book).set(title='5-Star Hotel Price (median)')"
   ]
  },
  {
   "cell_type": "code",
   "execution_count": 142,
   "id": "778a9284",
   "metadata": {},
   "outputs": [
    {
     "data": {
      "text/html": [
       "<div>\n",
       "<style scoped>\n",
       "    .dataframe tbody tr th:only-of-type {\n",
       "        vertical-align: middle;\n",
       "    }\n",
       "\n",
       "    .dataframe tbody tr th {\n",
       "        vertical-align: top;\n",
       "    }\n",
       "\n",
       "    .dataframe thead th {\n",
       "        text-align: right;\n",
       "    }\n",
       "</style>\n",
       "<table border=\"1\" class=\"dataframe\">\n",
       "  <thead>\n",
       "    <tr style=\"text-align: right;\">\n",
       "      <th></th>\n",
       "      <th>search_date</th>\n",
       "      <th>startdt</th>\n",
       "      <th>enddt</th>\n",
       "      <th>hotel_id</th>\n",
       "      <th>hotel_stars</th>\n",
       "      <th>price</th>\n",
       "      <th>advance_days</th>\n",
       "      <th>weekday</th>\n",
       "      <th>month_s</th>\n",
       "      <th>month_e</th>\n",
       "      <th>day_s</th>\n",
       "      <th>day_e</th>\n",
       "      <th>year_s</th>\n",
       "      <th>year_e</th>\n",
       "    </tr>\n",
       "  </thead>\n",
       "  <tbody>\n",
       "    <tr>\n",
       "      <th>0</th>\n",
       "      <td>2021-06-29</td>\n",
       "      <td>2021-07-07</td>\n",
       "      <td>2021-07-11</td>\n",
       "      <td>24432</td>\n",
       "      <td>5.0</td>\n",
       "      <td>555.0</td>\n",
       "      <td>8 days</td>\n",
       "      <td>1</td>\n",
       "      <td>7</td>\n",
       "      <td>7</td>\n",
       "      <td>7</td>\n",
       "      <td>11</td>\n",
       "      <td>2021</td>\n",
       "      <td>2021</td>\n",
       "    </tr>\n",
       "    <tr>\n",
       "      <th>1</th>\n",
       "      <td>2021-06-12</td>\n",
       "      <td>2021-07-05</td>\n",
       "      <td>2021-07-09</td>\n",
       "      <td>24432</td>\n",
       "      <td>5.0</td>\n",
       "      <td>267.0</td>\n",
       "      <td>23 days</td>\n",
       "      <td>5</td>\n",
       "      <td>7</td>\n",
       "      <td>7</td>\n",
       "      <td>5</td>\n",
       "      <td>9</td>\n",
       "      <td>2021</td>\n",
       "      <td>2021</td>\n",
       "    </tr>\n",
       "    <tr>\n",
       "      <th>2</th>\n",
       "      <td>2021-06-06</td>\n",
       "      <td>2021-07-29</td>\n",
       "      <td>2021-08-01</td>\n",
       "      <td>24432</td>\n",
       "      <td>5.0</td>\n",
       "      <td>318.0</td>\n",
       "      <td>53 days</td>\n",
       "      <td>6</td>\n",
       "      <td>7</td>\n",
       "      <td>8</td>\n",
       "      <td>29</td>\n",
       "      <td>1</td>\n",
       "      <td>2021</td>\n",
       "      <td>2021</td>\n",
       "    </tr>\n",
       "    <tr>\n",
       "      <th>3</th>\n",
       "      <td>2021-06-21</td>\n",
       "      <td>2021-06-26</td>\n",
       "      <td>2021-07-02</td>\n",
       "      <td>24432</td>\n",
       "      <td>5.0</td>\n",
       "      <td>362.0</td>\n",
       "      <td>5 days</td>\n",
       "      <td>0</td>\n",
       "      <td>6</td>\n",
       "      <td>7</td>\n",
       "      <td>26</td>\n",
       "      <td>2</td>\n",
       "      <td>2021</td>\n",
       "      <td>2021</td>\n",
       "    </tr>\n",
       "    <tr>\n",
       "      <th>4</th>\n",
       "      <td>2021-06-29</td>\n",
       "      <td>2021-08-23</td>\n",
       "      <td>2021-08-25</td>\n",
       "      <td>24432</td>\n",
       "      <td>5.0</td>\n",
       "      <td>403.0</td>\n",
       "      <td>55 days</td>\n",
       "      <td>1</td>\n",
       "      <td>8</td>\n",
       "      <td>8</td>\n",
       "      <td>23</td>\n",
       "      <td>25</td>\n",
       "      <td>2021</td>\n",
       "      <td>2021</td>\n",
       "    </tr>\n",
       "    <tr>\n",
       "      <th>...</th>\n",
       "      <td>...</td>\n",
       "      <td>...</td>\n",
       "      <td>...</td>\n",
       "      <td>...</td>\n",
       "      <td>...</td>\n",
       "      <td>...</td>\n",
       "      <td>...</td>\n",
       "      <td>...</td>\n",
       "      <td>...</td>\n",
       "      <td>...</td>\n",
       "      <td>...</td>\n",
       "      <td>...</td>\n",
       "      <td>...</td>\n",
       "      <td>...</td>\n",
       "    </tr>\n",
       "    <tr>\n",
       "      <th>98204</th>\n",
       "      <td>2021-06-26</td>\n",
       "      <td>2021-09-04</td>\n",
       "      <td>2021-09-07</td>\n",
       "      <td>4367210</td>\n",
       "      <td>4.0</td>\n",
       "      <td>195.0</td>\n",
       "      <td>70 days</td>\n",
       "      <td>5</td>\n",
       "      <td>9</td>\n",
       "      <td>9</td>\n",
       "      <td>4</td>\n",
       "      <td>7</td>\n",
       "      <td>2021</td>\n",
       "      <td>2021</td>\n",
       "    </tr>\n",
       "    <tr>\n",
       "      <th>98205</th>\n",
       "      <td>2021-06-18</td>\n",
       "      <td>2021-07-18</td>\n",
       "      <td>2021-07-21</td>\n",
       "      <td>4367210</td>\n",
       "      <td>4.0</td>\n",
       "      <td>97.0</td>\n",
       "      <td>30 days</td>\n",
       "      <td>4</td>\n",
       "      <td>7</td>\n",
       "      <td>7</td>\n",
       "      <td>18</td>\n",
       "      <td>21</td>\n",
       "      <td>2021</td>\n",
       "      <td>2021</td>\n",
       "    </tr>\n",
       "    <tr>\n",
       "      <th>98206</th>\n",
       "      <td>2021-06-28</td>\n",
       "      <td>2021-08-22</td>\n",
       "      <td>2021-08-27</td>\n",
       "      <td>4367210</td>\n",
       "      <td>4.0</td>\n",
       "      <td>87.0</td>\n",
       "      <td>55 days</td>\n",
       "      <td>0</td>\n",
       "      <td>8</td>\n",
       "      <td>8</td>\n",
       "      <td>22</td>\n",
       "      <td>27</td>\n",
       "      <td>2021</td>\n",
       "      <td>2021</td>\n",
       "    </tr>\n",
       "    <tr>\n",
       "      <th>98207</th>\n",
       "      <td>2021-06-30</td>\n",
       "      <td>2021-12-09</td>\n",
       "      <td>2021-12-13</td>\n",
       "      <td>4367210</td>\n",
       "      <td>4.0</td>\n",
       "      <td>138.0</td>\n",
       "      <td>162 days</td>\n",
       "      <td>2</td>\n",
       "      <td>12</td>\n",
       "      <td>12</td>\n",
       "      <td>9</td>\n",
       "      <td>13</td>\n",
       "      <td>2021</td>\n",
       "      <td>2021</td>\n",
       "    </tr>\n",
       "    <tr>\n",
       "      <th>98208</th>\n",
       "      <td>2021-06-19</td>\n",
       "      <td>2021-08-22</td>\n",
       "      <td>2021-08-30</td>\n",
       "      <td>4367210</td>\n",
       "      <td>4.0</td>\n",
       "      <td>124.0</td>\n",
       "      <td>64 days</td>\n",
       "      <td>5</td>\n",
       "      <td>8</td>\n",
       "      <td>8</td>\n",
       "      <td>22</td>\n",
       "      <td>30</td>\n",
       "      <td>2021</td>\n",
       "      <td>2021</td>\n",
       "    </tr>\n",
       "  </tbody>\n",
       "</table>\n",
       "<p>98209 rows × 14 columns</p>\n",
       "</div>"
      ],
      "text/plain": [
       "      search_date    startdt      enddt  hotel_id  hotel_stars  price  \\\n",
       "0      2021-06-29 2021-07-07 2021-07-11     24432          5.0  555.0   \n",
       "1      2021-06-12 2021-07-05 2021-07-09     24432          5.0  267.0   \n",
       "2      2021-06-06 2021-07-29 2021-08-01     24432          5.0  318.0   \n",
       "3      2021-06-21 2021-06-26 2021-07-02     24432          5.0  362.0   \n",
       "4      2021-06-29 2021-08-23 2021-08-25     24432          5.0  403.0   \n",
       "...           ...        ...        ...       ...          ...    ...   \n",
       "98204  2021-06-26 2021-09-04 2021-09-07   4367210          4.0  195.0   \n",
       "98205  2021-06-18 2021-07-18 2021-07-21   4367210          4.0   97.0   \n",
       "98206  2021-06-28 2021-08-22 2021-08-27   4367210          4.0   87.0   \n",
       "98207  2021-06-30 2021-12-09 2021-12-13   4367210          4.0  138.0   \n",
       "98208  2021-06-19 2021-08-22 2021-08-30   4367210          4.0  124.0   \n",
       "\n",
       "      advance_days  weekday  month_s  month_e  day_s  day_e  year_s  year_e  \n",
       "0           8 days        1        7        7      7     11    2021    2021  \n",
       "1          23 days        5        7        7      5      9    2021    2021  \n",
       "2          53 days        6        7        8     29      1    2021    2021  \n",
       "3           5 days        0        6        7     26      2    2021    2021  \n",
       "4          55 days        1        8        8     23     25    2021    2021  \n",
       "...            ...      ...      ...      ...    ...    ...     ...     ...  \n",
       "98204      70 days        5        9        9      4      7    2021    2021  \n",
       "98205      30 days        4        7        7     18     21    2021    2021  \n",
       "98206      55 days        0        8        8     22     27    2021    2021  \n",
       "98207     162 days        2       12       12      9     13    2021    2021  \n",
       "98208      64 days        5        8        8     22     30    2021    2021  \n",
       "\n",
       "[98209 rows x 14 columns]"
      ]
     },
     "execution_count": 142,
     "metadata": {},
     "output_type": "execute_result"
    }
   ],
   "source": [
    "data"
   ]
  },
  {
   "cell_type": "code",
   "execution_count": 154,
   "id": "27277f4c",
   "metadata": {},
   "outputs": [],
   "source": [
    "# select 0 advance_days, 30 advance_days, 50 advance_days and 180 advance_days to test \n",
    "hotel_advance0 = data[(data.advance_days == 0)]\n",
    "hotel_advance30 = data[(data.advance_days == 30)]\n",
    "hotel_advance50 = data[(data.advance_days == 50)]\n",
    "hotel_advance180 = data[(data.advance_days == 180)]"
   ]
  },
  {
   "cell_type": "code",
   "execution_count": 155,
   "id": "7580f5fe",
   "metadata": {},
   "outputs": [],
   "source": [
    "hotel_a0 = hotel_advance0['price']\n",
    "hotel_a30 = hotel_advance30['price']\n",
    "hotel_a50 = hotel_advance50['price']\n",
    "hotel_a180 = hotel_advance180['price']"
   ]
  },
  {
   "cell_type": "markdown",
   "id": "5100e09f",
   "metadata": {},
   "source": [
    "## T-test"
   ]
  },
  {
   "cell_type": "markdown",
   "id": "8bdb3aba",
   "metadata": {},
   "source": [
    "**Test 1:** \n",
    "\n",
    "**H<sub>null</sub>**: For hotel price, booking 30 days in advance is the same as booking in 50 days in advance \n",
    "\n",
    "**H<sub>alternative</sub>**: The hotel price is not the same when booking 30 days and 50 days in advance"
   ]
  },
  {
   "cell_type": "code",
   "execution_count": 156,
   "id": "257282f7",
   "metadata": {},
   "outputs": [
    {
     "name": "stdout",
     "output_type": "stream",
     "text": [
      "t=3.151, p=0.002\n"
     ]
    }
   ],
   "source": [
    "stat, p = ttest_ind(hotel_a30,hotel_a50)\n",
    "print('t=%.3f, p=%.3f' % (stat, p))"
   ]
  },
  {
   "cell_type": "markdown",
   "id": "2eb247ed",
   "metadata": {},
   "source": [
    "Reject the null hypothesis. 50 days in advance is cheaper than 30 days in advance"
   ]
  },
  {
   "cell_type": "markdown",
   "id": "16eb6ed8",
   "metadata": {},
   "source": [
    "**Test2:** \n",
    "\n",
    "**H<sub>null</sub>**: For hotel price, booking 0 days in advance is the same as booking in 50 days in advance \n",
    "\n",
    "**H<sub>alternative</sub>**: The hotel price is not the same when booking 0 days and 50 days in advance"
   ]
  },
  {
   "cell_type": "code",
   "execution_count": 157,
   "id": "7d7550fe",
   "metadata": {},
   "outputs": [
    {
     "name": "stdout",
     "output_type": "stream",
     "text": [
      "t=-9.516, p=0.000\n"
     ]
    }
   ],
   "source": [
    "stat, p = ttest_ind(hotel_a0,hotel_a50)\n",
    "print('t=%.3f, p=%.3f' % (stat, p))"
   ]
  },
  {
   "cell_type": "markdown",
   "id": "7b572bb8",
   "metadata": {},
   "source": [
    "Reject the null hypothesis. Booking on check-in day is cheaper than 50 days in advance "
   ]
  },
  {
   "cell_type": "markdown",
   "id": "287eacdc",
   "metadata": {},
   "source": [
    "**Test3:** \n",
    "\n",
    "**H<sub>null</sub>**: For hotel price, booking 50 days in advance is the same as booking in 180 days in advance \n",
    "\n",
    "**H<sub>alternative</sub>**: The hotel price is not the same when booking 50 days and 180 days in advance"
   ]
  },
  {
   "cell_type": "code",
   "execution_count": 158,
   "id": "75fa3cca",
   "metadata": {},
   "outputs": [
    {
     "name": "stdout",
     "output_type": "stream",
     "text": [
      "t=2.622, p=0.009\n"
     ]
    }
   ],
   "source": [
    "stat, p = ttest_ind(hotel_a50,hotel_a180 )\n",
    "print('t=%.3f, p=%.3f' % (stat, p))"
   ]
  },
  {
   "cell_type": "markdown",
   "id": "681bc0d5",
   "metadata": {},
   "source": [
    "Reject the null hypothesis. Booking 50 days in advance is expensive than 180 days in advance"
   ]
  },
  {
   "cell_type": "markdown",
   "id": "612f1408",
   "metadata": {},
   "source": [
    "**Test4:** \n",
    "\n",
    "**H<sub>null</sub>**: For hotel price, booking 0 days in advance is the same as booking in 180 days in advance \n",
    "\n",
    "**H<sub>alternative</sub>**: The hotel price is not the same when booking 0 days and 180 days in advance"
   ]
  },
  {
   "cell_type": "code",
   "execution_count": 159,
   "id": "70745c7a",
   "metadata": {},
   "outputs": [
    {
     "name": "stdout",
     "output_type": "stream",
     "text": [
      "t=0.237, p=0.812\n"
     ]
    }
   ],
   "source": [
    "stat, p = ttest_ind(hotel_a0,hotel_a180 )\n",
    "print('t=%.3f, p=%.3f' % (stat, p))"
   ]
  },
  {
   "cell_type": "markdown",
   "id": "a621d7fe",
   "metadata": {},
   "source": [
    "Can't reject the null. No statistical evidence shows that the price on check-in day is different from the price of booking 180 days in advance."
   ]
  },
  {
   "cell_type": "markdown",
   "id": "23fc2913",
   "metadata": {},
   "source": [
    "**Summary notes**\n",
    "\n",
    "Median price on the departure day is not statistically different from booking 180 days in advance\n",
    "\n",
    "Planning half year ahead and making last minute travel are the most cost effective options.\n",
    "\n",
    "As the graph and stats test shows, on the day of departure or approximately 180 days (~6 months) in advance are the cheapest time to book, average hotel prices in Las Vegas are at their lowest. \n",
    "\n",
    "In general, booking within 75 days ahead possibly put you in a relatively low prices range. Booking 50 days in advance would be cheaper than booking 30 days ahead. \n",
    "\n",
    "However, booking between 100 days to 125 days in advance seems to be the most expensive time to book. "
   ]
  },
  {
   "cell_type": "markdown",
   "id": "469d6c74",
   "metadata": {},
   "source": [
    "## Prediction"
   ]
  },
  {
   "cell_type": "markdown",
   "id": "5a6ea5f4",
   "metadata": {},
   "source": [
    "### Heatmap"
   ]
  },
  {
   "cell_type": "code",
   "execution_count": 160,
   "id": "205404a4",
   "metadata": {},
   "outputs": [
    {
     "data": {
      "image/png": "[encoded data removed]",
      "text/plain": [
       "<Figure size 864x720 with 2 Axes>"
      ]
     },
     "metadata": {
      "needs_background": "light"
     },
     "output_type": "display_data"
    }
   ],
   "source": [
    "# show a seaborn heatmap of correlations\n",
    "plt.subplots(figsize=(12,10))\n",
    "sns.heatmap(data.corr());"
   ]
  },
  {
   "cell_type": "markdown",
   "id": "79be49f1",
   "metadata": {},
   "source": [
    "### Scatterplots of numeric features against hotel price"
   ]
  },
  {
   "cell_type": "code",
   "execution_count": 161,
   "id": "9a137e6e",
   "metadata": {},
   "outputs": [
    {
     "data": {
      "text/plain": [
       "(98205, 14)"
      ]
     },
     "execution_count": 161,
     "metadata": {},
     "output_type": "execute_result"
    }
   ],
   "source": [
    "# drop 4 observation with the price higher than $5000 per night as outliers\n",
    "data_corr = data[data.price < 5000]\n",
    "data_corr.shape"
   ]
  },
  {
   "cell_type": "code",
   "execution_count": 174,
   "id": "838f3b65",
   "metadata": {},
   "outputs": [],
   "source": [
    "# scatterplots of numeric features against hotel price\n",
    "def scatterplots(columns, ncol=None, figsize=(15, 8)):\n",
    "    if ncol is None:\n",
    "        ncol = len(columns)\n",
    "    nrow = int(np.ceil(len(columns) / ncol))\n",
    "    fig, axes = plt.subplots(nrow, ncol, figsize=figsize, squeeze=False)\n",
    "    fig.subplots_adjust(wspace=0.5, hspace=0.6)\n",
    "    for i, col in enumerate(columns):\n",
    "        ax = axes.flatten()[i]\n",
    "        ax.scatter(x = col, y = 'price', data=data_corr, alpha=0.5)\n",
    "        ax.set(xlabel=col, ylabel='Hotel $/night')\n",
    "    nsubplots = nrow * ncol    \n",
    "    for empty in range(i+1, nsubplots):\n",
    "        axes.flatten()[empty].set_visible(False)"
   ]
  },
  {
   "cell_type": "code",
   "execution_count": 175,
   "id": "3d8415c6",
   "metadata": {},
   "outputs": [],
   "source": [
    "features = [x for x in data_corr.columns if x not in ['hotel_id', 'price']]"
   ]
  },
  {
   "cell_type": "code",
   "execution_count": 176,
   "id": "7267edc2",
   "metadata": {},
   "outputs": [
    {
     "data": {
      "image/png": "[encoded data removed]",
      "text/plain": [
       "<Figure size 1080x1080 with 12 Axes>"
      ]
     },
     "metadata": {
      "needs_background": "light"
     },
     "output_type": "display_data"
    }
   ],
   "source": [
    "scatterplots(features, ncol=2, figsize=(15, 15))"
   ]
  },
  {
   "cell_type": "markdown",
   "id": "f7e6b647",
   "metadata": {},
   "source": [
    "### Preprocessing"
   ]
  },
  {
   "cell_type": "code",
   "execution_count": 177,
   "id": "cfa869a2",
   "metadata": {},
   "outputs": [
    {
     "name": "stderr",
     "output_type": "stream",
     "text": [
      "/opt/anaconda3/lib/python3.8/site-packages/pandas/core/indexing.py:1597: SettingWithCopyWarning: \n",
      "A value is trying to be set on a copy of a slice from a DataFrame.\n",
      "Try using .loc[row_indexer,col_indexer] = value instead\n",
      "\n",
      "See the caveats in the documentation: https://pandas.pydata.org/pandas-docs/stable/user_guide/indexing.html#returning-a-view-versus-a-copy\n",
      "  self.obj[key] = value\n",
      "/opt/anaconda3/lib/python3.8/site-packages/pandas/core/indexing.py:1720: SettingWithCopyWarning: \n",
      "A value is trying to be set on a copy of a slice from a DataFrame.\n",
      "Try using .loc[row_indexer,col_indexer] = value instead\n",
      "\n",
      "See the caveats in the documentation: https://pandas.pydata.org/pandas-docs/stable/user_guide/indexing.html#returning-a-view-versus-a-copy\n",
      "  self._setitem_single_column(loc, value, pi)\n",
      "/opt/anaconda3/lib/python3.8/site-packages/pandas/core/indexing.py:1720: SettingWithCopyWarning: \n",
      "A value is trying to be set on a copy of a slice from a DataFrame.\n",
      "Try using .loc[row_indexer,col_indexer] = value instead\n",
      "\n",
      "See the caveats in the documentation: https://pandas.pydata.org/pandas-docs/stable/user_guide/indexing.html#returning-a-view-versus-a-copy\n",
      "  self._setitem_single_column(loc, value, pi)\n",
      "/opt/anaconda3/lib/python3.8/site-packages/pandas/core/indexing.py:1720: SettingWithCopyWarning: \n",
      "A value is trying to be set on a copy of a slice from a DataFrame.\n",
      "Try using .loc[row_indexer,col_indexer] = value instead\n",
      "\n",
      "See the caveats in the documentation: https://pandas.pydata.org/pandas-docs/stable/user_guide/indexing.html#returning-a-view-versus-a-copy\n",
      "  self._setitem_single_column(loc, value, pi)\n",
      "/opt/anaconda3/lib/python3.8/site-packages/pandas/core/indexing.py:1720: SettingWithCopyWarning: \n",
      "A value is trying to be set on a copy of a slice from a DataFrame.\n",
      "Try using .loc[row_indexer,col_indexer] = value instead\n",
      "\n",
      "See the caveats in the documentation: https://pandas.pydata.org/pandas-docs/stable/user_guide/indexing.html#returning-a-view-versus-a-copy\n",
      "  self._setitem_single_column(loc, value, pi)\n"
     ]
    },
    {
     "data": {
      "text/html": [
       "<div>\n",
       "<style scoped>\n",
       "    .dataframe tbody tr th:only-of-type {\n",
       "        vertical-align: middle;\n",
       "    }\n",
       "\n",
       "    .dataframe tbody tr th {\n",
       "        vertical-align: top;\n",
       "    }\n",
       "\n",
       "    .dataframe thead th {\n",
       "        text-align: right;\n",
       "    }\n",
       "</style>\n",
       "<table border=\"1\" class=\"dataframe\">\n",
       "  <thead>\n",
       "    <tr style=\"text-align: right;\">\n",
       "      <th></th>\n",
       "      <th>price</th>\n",
       "      <th>advance_days</th>\n",
       "      <th>weekday</th>\n",
       "      <th>stay_days</th>\n",
       "      <th>month_s</th>\n",
       "      <th>month_e</th>\n",
       "      <th>day_s</th>\n",
       "      <th>day_e</th>\n",
       "      <th>year_s</th>\n",
       "      <th>year_e</th>\n",
       "      <th>star3</th>\n",
       "      <th>star4</th>\n",
       "      <th>star5</th>\n",
       "    </tr>\n",
       "  </thead>\n",
       "  <tbody>\n",
       "    <tr>\n",
       "      <th>0</th>\n",
       "      <td>555.0</td>\n",
       "      <td>8</td>\n",
       "      <td>1</td>\n",
       "      <td>4</td>\n",
       "      <td>7</td>\n",
       "      <td>7</td>\n",
       "      <td>7</td>\n",
       "      <td>11</td>\n",
       "      <td>2021</td>\n",
       "      <td>2021</td>\n",
       "      <td>0</td>\n",
       "      <td>0</td>\n",
       "      <td>1</td>\n",
       "    </tr>\n",
       "    <tr>\n",
       "      <th>1</th>\n",
       "      <td>267.0</td>\n",
       "      <td>23</td>\n",
       "      <td>5</td>\n",
       "      <td>4</td>\n",
       "      <td>7</td>\n",
       "      <td>7</td>\n",
       "      <td>5</td>\n",
       "      <td>9</td>\n",
       "      <td>2021</td>\n",
       "      <td>2021</td>\n",
       "      <td>0</td>\n",
       "      <td>0</td>\n",
       "      <td>1</td>\n",
       "    </tr>\n",
       "    <tr>\n",
       "      <th>2</th>\n",
       "      <td>318.0</td>\n",
       "      <td>53</td>\n",
       "      <td>6</td>\n",
       "      <td>3</td>\n",
       "      <td>7</td>\n",
       "      <td>8</td>\n",
       "      <td>29</td>\n",
       "      <td>1</td>\n",
       "      <td>2021</td>\n",
       "      <td>2021</td>\n",
       "      <td>0</td>\n",
       "      <td>0</td>\n",
       "      <td>1</td>\n",
       "    </tr>\n",
       "    <tr>\n",
       "      <th>3</th>\n",
       "      <td>362.0</td>\n",
       "      <td>5</td>\n",
       "      <td>0</td>\n",
       "      <td>6</td>\n",
       "      <td>6</td>\n",
       "      <td>7</td>\n",
       "      <td>26</td>\n",
       "      <td>2</td>\n",
       "      <td>2021</td>\n",
       "      <td>2021</td>\n",
       "      <td>0</td>\n",
       "      <td>0</td>\n",
       "      <td>1</td>\n",
       "    </tr>\n",
       "    <tr>\n",
       "      <th>4</th>\n",
       "      <td>403.0</td>\n",
       "      <td>55</td>\n",
       "      <td>1</td>\n",
       "      <td>2</td>\n",
       "      <td>8</td>\n",
       "      <td>8</td>\n",
       "      <td>23</td>\n",
       "      <td>25</td>\n",
       "      <td>2021</td>\n",
       "      <td>2021</td>\n",
       "      <td>0</td>\n",
       "      <td>0</td>\n",
       "      <td>1</td>\n",
       "    </tr>\n",
       "  </tbody>\n",
       "</table>\n",
       "</div>"
      ],
      "text/plain": [
       "   price  advance_days  weekday  stay_days  month_s  month_e  day_s  day_e  \\\n",
       "0  555.0             8        1          4        7        7      7     11   \n",
       "1  267.0            23        5          4        7        7      5      9   \n",
       "2  318.0            53        6          3        7        8     29      1   \n",
       "3  362.0             5        0          6        6        7     26      2   \n",
       "4  403.0            55        1          2        8        8     23     25   \n",
       "\n",
       "   year_s  year_e  star3  star4  star5  \n",
       "0    2021    2021      0      0      1  \n",
       "1    2021    2021      0      0      1  \n",
       "2    2021    2021      0      0      1  \n",
       "3    2021    2021      0      0      1  \n",
       "4    2021    2021      0      0      1  "
      ]
     },
     "execution_count": 177,
     "metadata": {},
     "output_type": "execute_result"
    }
   ],
   "source": [
    "# select variables for modelling as a new dataframe\n",
    "df = data[['price','hotel_stars','advance_days','weekday','stay_days','month_s','month_e','day_s','day_e','year_s','year_e']]\n",
    "\n",
    "# creat dummy variables for hotel stars\n",
    "df.loc[:, 'star3']=0\n",
    "df.loc[:, 'star4']=0\n",
    "df.loc[:, 'star5']=0\n",
    "\n",
    "df.loc[(df.hotel_stars==3), 'star3'] = 1\n",
    "df.loc[(df.hotel_stars==4), 'star4'] = 1\n",
    "df.loc[(df.hotel_stars==5), 'star5'] = 1\n",
    "\n",
    "df = df.drop(columns='hotel_stars')\n",
    "df.head()"
   ]
  },
  {
   "cell_type": "markdown",
   "id": "d86dca98",
   "metadata": {},
   "source": [
    "### Split the dataset"
   ]
  },
  {
   "cell_type": "code",
   "execution_count": 180,
   "id": "410935b9",
   "metadata": {},
   "outputs": [],
   "source": [
    "X_train, X_test, y_train, y_test = train_test_split(df.drop(columns='price'), \n",
    "                                                    df.price, test_size=0.3)"
   ]
  },
  {
   "cell_type": "code",
   "execution_count": 181,
   "id": "5ebd1c96",
   "metadata": {},
   "outputs": [
    {
     "data": {
      "text/plain": [
       "((68746, 12), (29463, 12))"
      ]
     },
     "execution_count": 181,
     "metadata": {},
     "output_type": "execute_result"
    }
   ],
   "source": [
    "X_train.shape, X_test.shape"
   ]
  },
  {
   "cell_type": "code",
   "execution_count": 182,
   "id": "1b82f3de",
   "metadata": {},
   "outputs": [
    {
     "data": {
      "text/plain": [
       "((68746,), (29463,))"
      ]
     },
     "execution_count": 182,
     "metadata": {},
     "output_type": "execute_result"
    }
   ],
   "source": [
    "y_train.shape, y_test.shape"
   ]
  },
  {
   "cell_type": "code",
   "execution_count": 183,
   "id": "e408beba",
   "metadata": {},
   "outputs": [
    {
     "data": {
      "text/plain": [
       "238.74878538387688"
      ]
     },
     "execution_count": 183,
     "metadata": {},
     "output_type": "execute_result"
    }
   ],
   "source": [
    "train_mean = y_train.mean()\n",
    "train_mean"
   ]
  },
  {
   "cell_type": "markdown",
   "id": "671eab16",
   "metadata": {},
   "source": [
    "### Linear regression "
   ]
  },
  {
   "cell_type": "code",
   "execution_count": 191,
   "id": "d5a2a297",
   "metadata": {},
   "outputs": [],
   "source": [
    "lm_s = LinearRegression().fit(X_train, y_train)"
   ]
  },
  {
   "cell_type": "code",
   "execution_count": 196,
   "id": "54d5740a",
   "metadata": {},
   "outputs": [],
   "source": [
    "y_tr_pred_s = lm_s.predict(X_train)\n",
    "y_te_pred_s = lm_s.predict(X_test)"
   ]
  },
  {
   "cell_type": "code",
   "execution_count": 197,
   "id": "7904732a",
   "metadata": {},
   "outputs": [
    {
     "data": {
      "text/plain": [
       "(0.26456726561575195, 0.25379530161467345)"
      ]
     },
     "execution_count": 197,
     "metadata": {},
     "output_type": "execute_result"
    }
   ],
   "source": [
    "r2_s = r2_score(y_train, y_tr_pred_s), r2_score(y_test, y_te_pred_s)\n",
    "r2_s"
   ]
  },
  {
   "cell_type": "code",
   "execution_count": 199,
   "id": "e07de1d9",
   "metadata": {},
   "outputs": [
    {
     "data": {
      "text/plain": [
       "(99.46382661581963, 99.6365551378368)"
      ]
     },
     "execution_count": 199,
     "metadata": {},
     "output_type": "execute_result"
    }
   ],
   "source": [
    "mean_absolute_error(y_train, y_tr_pred_s), mean_absolute_error(y_test, y_te_pred_s)"
   ]
  },
  {
   "cell_type": "code",
   "execution_count": 200,
   "id": "e5fcf357",
   "metadata": {},
   "outputs": [
    {
     "data": {
      "text/plain": [
       "(19431.72317612279, 20806.330897417633)"
      ]
     },
     "execution_count": 200,
     "metadata": {},
     "output_type": "execute_result"
    }
   ],
   "source": [
    "mean_squared_error(y_train, y_tr_pred_s), mean_squared_error(y_test, y_te_pred_s)"
   ]
  },
  {
   "cell_type": "code",
   "execution_count": 201,
   "id": "992932b5",
   "metadata": {},
   "outputs": [],
   "source": [
    "# scale the data\n",
    "scaler = StandardScaler()\n",
    "scaler.fit(X_train)\n",
    "X_tr_scaled = scaler.transform(X_train)\n",
    "X_te_scaled = scaler.transform(X_test)"
   ]
  },
  {
   "cell_type": "code",
   "execution_count": 202,
   "id": "222b5c3e",
   "metadata": {},
   "outputs": [],
   "source": [
    "lm = LinearRegression().fit(X_tr_scaled, y_train)"
   ]
  },
  {
   "cell_type": "code",
   "execution_count": 203,
   "id": "e1994c81",
   "metadata": {},
   "outputs": [],
   "source": [
    "y_tr_pred = lm.predict(X_tr_scaled)\n",
    "y_te_pred = lm.predict(X_te_scaled)"
   ]
  },
  {
   "cell_type": "code",
   "execution_count": 204,
   "id": "26ce4ff6",
   "metadata": {},
   "outputs": [
    {
     "data": {
      "text/plain": [
       "(0.26456726561485666, 0.25379530161367325)"
      ]
     },
     "execution_count": 204,
     "metadata": {},
     "output_type": "execute_result"
    }
   ],
   "source": [
    "r2 = r2_score(y_train, y_tr_pred), r2_score(y_test, y_te_pred)\n",
    "r2"
   ]
  },
  {
   "cell_type": "code",
   "execution_count": 214,
   "id": "b382c1a8",
   "metadata": {},
   "outputs": [
    {
     "data": {
      "text/plain": [
       "array([0.28308014, 0.28443653, 0.29377843, 0.21796998, 0.25567854])"
      ]
     },
     "execution_count": 214,
     "metadata": {},
     "output_type": "execute_result"
    }
   ],
   "source": [
    "cv_results = cross_validate(lm, X_train, y_train, cv=5)\n",
    "cv_scores = cv_results['test_score']\n",
    "cv_scores"
   ]
  },
  {
   "cell_type": "markdown",
   "id": "ba4687ac",
   "metadata": {},
   "source": [
    "### Random forest"
   ]
  },
  {
   "cell_type": "code",
   "execution_count": 215,
   "id": "bb3cc5d3",
   "metadata": {},
   "outputs": [],
   "source": [
    "rf = RandomForestRegressor(n_estimators=100, bootstrap = True, random_state=62)"
   ]
  },
  {
   "cell_type": "code",
   "execution_count": 216,
   "id": "e45cff26",
   "metadata": {},
   "outputs": [
    {
     "data": {
      "text/plain": [
       "RandomForestRegressor(random_state=62)"
      ]
     },
     "execution_count": 216,
     "metadata": {},
     "output_type": "execute_result"
    }
   ],
   "source": [
    "rf.fit(X_train, y_train)"
   ]
  },
  {
   "cell_type": "code",
   "execution_count": 217,
   "id": "341c4a72",
   "metadata": {},
   "outputs": [],
   "source": [
    "y_tr_pred_rf = rf.predict(X_train)\n",
    "y_te_pred_rf = rf.predict(X_test)"
   ]
  },
  {
   "cell_type": "code",
   "execution_count": 218,
   "id": "b652c9bc",
   "metadata": {},
   "outputs": [
    {
     "data": {
      "text/plain": [
       "(0.78235443136382, 0.5579175763465165)"
      ]
     },
     "execution_count": 218,
     "metadata": {},
     "output_type": "execute_result"
    }
   ],
   "source": [
    "r2_rf = r2_score(y_train, y_tr_pred_rf), r2_score(y_test, y_te_pred_rf)\n",
    "r2_rf"
   ]
  },
  {
   "cell_type": "code",
   "execution_count": 219,
   "id": "c3f07769",
   "metadata": {},
   "outputs": [
    {
     "data": {
      "text/plain": [
       "array([0.62590717, 0.61930104, 0.60036491, 0.49064629, 0.5488388 ])"
      ]
     },
     "execution_count": 219,
     "metadata": {},
     "output_type": "execute_result"
    }
   ],
   "source": [
    "cv_results_rf = cross_validate(rf, X_train, y_train, cv=5)\n",
    "cv_scores_rf = cv_results_rf['test_score']\n",
    "cv_scores_rf"
   ]
  },
  {
   "cell_type": "code",
   "execution_count": 220,
   "id": "8fc369a7",
   "metadata": {},
   "outputs": [
    {
     "data": {
      "text/plain": [
       "(43.96710937439221, 63.166053776331914)"
      ]
     },
     "execution_count": 220,
     "metadata": {},
     "output_type": "execute_result"
    }
   ],
   "source": [
    "mse = metrics.mean_absolute_error(y_train, y_tr_pred_rf),metrics.mean_absolute_error(y_test, y_te_pred_rf)\n",
    "mse"
   ]
  },
  {
   "cell_type": "code",
   "execution_count": 221,
   "id": "9ab35f3b",
   "metadata": {},
   "outputs": [
    {
     "data": {
      "text/plain": [
       "(5750.6665701915845, 12326.528110007968)"
      ]
     },
     "execution_count": 221,
     "metadata": {},
     "output_type": "execute_result"
    }
   ],
   "source": [
    "mean_squared_error(y_train, y_tr_pred_rf), mean_squared_error(y_test, y_te_pred_rf)"
   ]
  },
  {
   "cell_type": "code",
   "execution_count": 222,
   "id": "03d7816a",
   "metadata": {},
   "outputs": [
    {
     "data": {
      "text/html": [
       "<div>\n",
       "<style scoped>\n",
       "    .dataframe tbody tr th:only-of-type {\n",
       "        vertical-align: middle;\n",
       "    }\n",
       "\n",
       "    .dataframe tbody tr th {\n",
       "        vertical-align: top;\n",
       "    }\n",
       "\n",
       "    .dataframe thead th {\n",
       "        text-align: right;\n",
       "    }\n",
       "</style>\n",
       "<table border=\"1\" class=\"dataframe\">\n",
       "  <thead>\n",
       "    <tr style=\"text-align: right;\">\n",
       "      <th></th>\n",
       "      <th>feature</th>\n",
       "      <th>importance</th>\n",
       "    </tr>\n",
       "  </thead>\n",
       "  <tbody>\n",
       "    <tr>\n",
       "      <th>11</th>\n",
       "      <td>star5</td>\n",
       "      <td>0.249591</td>\n",
       "    </tr>\n",
       "    <tr>\n",
       "      <th>0</th>\n",
       "      <td>advance_days</td>\n",
       "      <td>0.183853</td>\n",
       "    </tr>\n",
       "    <tr>\n",
       "      <th>6</th>\n",
       "      <td>day_e</td>\n",
       "      <td>0.164084</td>\n",
       "    </tr>\n",
       "    <tr>\n",
       "      <th>5</th>\n",
       "      <td>day_s</td>\n",
       "      <td>0.160907</td>\n",
       "    </tr>\n",
       "    <tr>\n",
       "      <th>1</th>\n",
       "      <td>weekday</td>\n",
       "      <td>0.061464</td>\n",
       "    </tr>\n",
       "    <tr>\n",
       "      <th>2</th>\n",
       "      <td>stay_days</td>\n",
       "      <td>0.056110</td>\n",
       "    </tr>\n",
       "    <tr>\n",
       "      <th>3</th>\n",
       "      <td>month_s</td>\n",
       "      <td>0.044878</td>\n",
       "    </tr>\n",
       "    <tr>\n",
       "      <th>4</th>\n",
       "      <td>month_e</td>\n",
       "      <td>0.035092</td>\n",
       "    </tr>\n",
       "    <tr>\n",
       "      <th>10</th>\n",
       "      <td>star4</td>\n",
       "      <td>0.023533</td>\n",
       "    </tr>\n",
       "    <tr>\n",
       "      <th>9</th>\n",
       "      <td>star3</td>\n",
       "      <td>0.020319</td>\n",
       "    </tr>\n",
       "    <tr>\n",
       "      <th>8</th>\n",
       "      <td>year_e</td>\n",
       "      <td>0.000170</td>\n",
       "    </tr>\n",
       "    <tr>\n",
       "      <th>7</th>\n",
       "      <td>year_s</td>\n",
       "      <td>0.000000</td>\n",
       "    </tr>\n",
       "  </tbody>\n",
       "</table>\n",
       "</div>"
      ],
      "text/plain": [
       "         feature  importance\n",
       "11         star5    0.249591\n",
       "0   advance_days    0.183853\n",
       "6          day_e    0.164084\n",
       "5          day_s    0.160907\n",
       "1        weekday    0.061464\n",
       "2      stay_days    0.056110\n",
       "3        month_s    0.044878\n",
       "4        month_e    0.035092\n",
       "10         star4    0.023533\n",
       "9          star3    0.020319\n",
       "8         year_e    0.000170\n",
       "7         year_s    0.000000"
      ]
     },
     "execution_count": 222,
     "metadata": {},
     "output_type": "execute_result"
    }
   ],
   "source": [
    "fi = pd.DataFrame({'feature': list(X_train.columns),\n",
    "                   'importance': rf.feature_importances_}).\\\n",
    "                    sort_values('importance', ascending = False)\n",
    "fi"
   ]
  },
  {
   "cell_type": "code",
   "execution_count": null,
   "id": "5c0e00b6",
   "metadata": {},
   "outputs": [],
   "source": [
    "print('Mean Absolute Error:', metrics.mean_absolute_error(y_test, y_te_pred_rf))\n",
    "print('Mean Squared Error:', metrics.mean_squared_error(y_test, y_te_pred_rf))\n",
    "print('Root Mean Squared Error:', np.sqrt(metrics.mean_squared_error(y_test, y_te_pred_rf)))"
   ]
  },
  {
   "cell_type": "code",
   "execution_count": 212,
   "id": "51ba655c",
   "metadata": {},
   "outputs": [
    {
     "name": "stderr",
     "output_type": "stream",
     "text": [
      "/opt/anaconda3/lib/python3.8/site-packages/seaborn/distributions.py:2557: FutureWarning: `distplot` is a deprecated function and will be removed in a future version. Please adapt your code to use either `displot` (a figure-level function with similar flexibility) or `kdeplot` (an axes-level function for kernel density plots).\n",
      "  warnings.warn(msg, FutureWarning)\n",
      "/opt/anaconda3/lib/python3.8/site-packages/seaborn/distributions.py:2557: FutureWarning: `distplot` is a deprecated function and will be removed in a future version. Please adapt your code to use either `displot` (a figure-level function with similar flexibility) or `kdeplot` (an axes-level function for kernel density plots).\n",
      "  warnings.warn(msg, FutureWarning)\n"
     ]
    },
    {
     "data": {
      "image/png": "[encoded data removed]",
      "text/plain": [
       "<Figure size 432x288 with 1 Axes>"
      ]
     },
     "metadata": {
      "needs_background": "light"
     },
     "output_type": "display_data"
    }
   ],
   "source": [
    "ax = sns.distplot(y_test, hist=False, color=\"r\", label=\"Actual Value\")\n",
    "sns.distplot(y_te_pred_rf, hist=False, color=\"b\", label=\"Fitted Values\" , ax=ax)\n",
    "\n",
    "plt.title('Actual vs Fitted Values for Price')\n",
    "\n",
    "plt.show()\n",
    "plt.close()"
   ]
  },
  {
   "cell_type": "code",
   "execution_count": null,
   "id": "9ea114b0",
   "metadata": {},
   "outputs": [],
   "source": []
  }
 ],
 "metadata": {
  "kernelspec": {
   "display_name": "Python 3",
   "language": "python",
   "name": "python3"
  },
  "language_info": {
   "codemirror_mode": {
    "name": "ipython",
    "version": 3
   },
   "file_extension": ".py",
   "mimetype": "text/x-python",
   "name": "python",
   "nbconvert_exporter": "python",
   "pygments_lexer": "ipython3",
   "version": "3.8.8"
  }
 },
 "nbformat": 4,
 "nbformat_minor": 5
}
